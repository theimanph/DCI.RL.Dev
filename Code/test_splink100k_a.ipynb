{
 "cells": [
  {
   "cell_type": "code",
   "execution_count": 1,
   "metadata": {},
   "outputs": [
    {
     "name": "stderr",
     "output_type": "stream",
     "text": [
      "/tmp/ipykernel_26553/78617517.py:1: DeprecationWarning: \n",
      "Pyarrow will become a required dependency of pandas in the next major release of pandas (pandas 3.0),\n",
      "(to allow more performant data types, such as the Arrow string type, and better interoperability with other libraries)\n",
      "but was not found to be installed on your system.\n",
      "If this would cause problems for you,\n",
      "please provide us feedback at https://github.com/pandas-dev/pandas/issues/54466\n",
      "        \n",
      "  import pandas\n",
      "/tmp/ipykernel_26553/78617517.py:2: DtypeWarning: Columns (19,27,32,33,38,39,58,59,66,67) have mixed types. Specify dtype option on import or set low_memory=False.\n",
      "  csvFile = pandas.read_csv('cleaned100k_data1.csv', sep='|', encoding='utf-8', on_bad_lines='skip')\n"
     ]
    }
   ],
   "source": [
    "import pandas\n",
    "csvFile = pandas.read_csv('cleaned100k_data1.csv', sep='|', encoding='utf-8', on_bad_lines='skip')\n",
    "\n",
    "csvFile.shape\n",
    "\n",
    "csvFile[\"id\"] = csvFile.index + 1\n"
   ]
  },
  {
   "cell_type": "code",
   "execution_count": 2,
   "metadata": {},
   "outputs": [
    {
     "name": "stdout",
     "output_type": "stream",
     "text": [
      "Requirement already satisfied: pyodbc in ./miniforge3/envs/tomenv/lib/python3.11/site-packages (5.0.1)\n",
      "Note: you may need to restart the kernel to use updated packages.\n",
      "Requirement already satisfied: duckdb in ./miniforge3/envs/tomenv/lib/python3.11/site-packages (0.9.2)\n",
      "Note: you may need to restart the kernel to use updated packages.\n",
      "Requirement already satisfied: splink in ./miniforge3/envs/tomenv/lib/python3.11/site-packages (3.9.12)\n",
      "Requirement already satisfied: Jinja2>=3.0.3 in ./miniforge3/envs/tomenv/lib/python3.11/site-packages (from splink) (3.1.3)\n",
      "Requirement already satisfied: altair<6.0.0,>=5.0.1 in ./miniforge3/envs/tomenv/lib/python3.11/site-packages (from splink) (5.2.0)\n",
      "Requirement already satisfied: duckdb>=0.8.0 in ./miniforge3/envs/tomenv/lib/python3.11/site-packages (from splink) (0.9.2)\n",
      "Requirement already satisfied: jsonschema<5.0,>=3.2 in ./miniforge3/envs/tomenv/lib/python3.11/site-packages (from splink) (4.21.1)\n",
      "Requirement already satisfied: pandas>1.3.0 in ./miniforge3/envs/tomenv/lib/python3.11/site-packages (from splink) (2.2.0)\n",
      "Requirement already satisfied: phonetics<2.0.0,>=1.0.5 in ./miniforge3/envs/tomenv/lib/python3.11/site-packages (from splink) (1.0.5)\n",
      "Requirement already satisfied: sqlglot<19.0.0,>=13.0.0 in ./miniforge3/envs/tomenv/lib/python3.11/site-packages (from splink) (18.17.0)\n",
      "Requirement already satisfied: numpy in ./miniforge3/envs/tomenv/lib/python3.11/site-packages (from altair<6.0.0,>=5.0.1->splink) (1.26.3)\n",
      "Requirement already satisfied: packaging in ./miniforge3/envs/tomenv/lib/python3.11/site-packages (from altair<6.0.0,>=5.0.1->splink) (23.2)\n",
      "Requirement already satisfied: toolz in ./miniforge3/envs/tomenv/lib/python3.11/site-packages (from altair<6.0.0,>=5.0.1->splink) (0.12.1)\n",
      "Requirement already satisfied: MarkupSafe>=2.0 in ./miniforge3/envs/tomenv/lib/python3.11/site-packages (from Jinja2>=3.0.3->splink) (2.1.5)\n",
      "Requirement already satisfied: attrs>=22.2.0 in ./miniforge3/envs/tomenv/lib/python3.11/site-packages (from jsonschema<5.0,>=3.2->splink) (23.2.0)\n",
      "Requirement already satisfied: jsonschema-specifications>=2023.03.6 in ./miniforge3/envs/tomenv/lib/python3.11/site-packages (from jsonschema<5.0,>=3.2->splink) (2023.12.1)\n",
      "Requirement already satisfied: referencing>=0.28.4 in ./miniforge3/envs/tomenv/lib/python3.11/site-packages (from jsonschema<5.0,>=3.2->splink) (0.33.0)\n",
      "Requirement already satisfied: rpds-py>=0.7.1 in ./miniforge3/envs/tomenv/lib/python3.11/site-packages (from jsonschema<5.0,>=3.2->splink) (0.17.1)\n",
      "Requirement already satisfied: python-dateutil>=2.8.2 in ./miniforge3/envs/tomenv/lib/python3.11/site-packages (from pandas>1.3.0->splink) (2.8.2)\n",
      "Requirement already satisfied: pytz>=2020.1 in ./miniforge3/envs/tomenv/lib/python3.11/site-packages (from pandas>1.3.0->splink) (2024.1)\n",
      "Requirement already satisfied: tzdata>=2022.7 in ./miniforge3/envs/tomenv/lib/python3.11/site-packages (from pandas>1.3.0->splink) (2023.4)\n",
      "Requirement already satisfied: six>=1.5 in ./miniforge3/envs/tomenv/lib/python3.11/site-packages (from python-dateutil>=2.8.2->pandas>1.3.0->splink) (1.16.0)\n",
      "Note: you may need to restart the kernel to use updated packages.\n",
      "Requirement already satisfied: usaddress in ./miniforge3/envs/tomenv/lib/python3.11/site-packages (0.5.10)\n",
      "Requirement already satisfied: future>=0.14 in ./miniforge3/envs/tomenv/lib/python3.11/site-packages (from usaddress) (0.18.3)\n",
      "Requirement already satisfied: probableparsing in ./miniforge3/envs/tomenv/lib/python3.11/site-packages (from usaddress) (0.0.1)\n",
      "Requirement already satisfied: python-crfsuite>=0.7 in ./miniforge3/envs/tomenv/lib/python3.11/site-packages (from usaddress) (0.9.10)\n",
      "Note: you may need to restart the kernel to use updated packages.\n",
      "Requirement already satisfied: nbformat in ./miniforge3/envs/tomenv/lib/python3.11/site-packages (5.9.2)\n",
      "Requirement already satisfied: fastjsonschema in ./miniforge3/envs/tomenv/lib/python3.11/site-packages (from nbformat) (2.19.1)\n",
      "Requirement already satisfied: jsonschema>=2.6 in ./miniforge3/envs/tomenv/lib/python3.11/site-packages (from nbformat) (4.21.1)\n",
      "Requirement already satisfied: jupyter-core in ./miniforge3/envs/tomenv/lib/python3.11/site-packages (from nbformat) (5.7.1)\n",
      "Requirement already satisfied: traitlets>=5.1 in ./miniforge3/envs/tomenv/lib/python3.11/site-packages (from nbformat) (5.14.1)\n",
      "Requirement already satisfied: attrs>=22.2.0 in ./miniforge3/envs/tomenv/lib/python3.11/site-packages (from jsonschema>=2.6->nbformat) (23.2.0)\n",
      "Requirement already satisfied: jsonschema-specifications>=2023.03.6 in ./miniforge3/envs/tomenv/lib/python3.11/site-packages (from jsonschema>=2.6->nbformat) (2023.12.1)\n",
      "Requirement already satisfied: referencing>=0.28.4 in ./miniforge3/envs/tomenv/lib/python3.11/site-packages (from jsonschema>=2.6->nbformat) (0.33.0)\n",
      "Requirement already satisfied: rpds-py>=0.7.1 in ./miniforge3/envs/tomenv/lib/python3.11/site-packages (from jsonschema>=2.6->nbformat) (0.17.1)\n",
      "Requirement already satisfied: platformdirs>=2.5 in ./miniforge3/envs/tomenv/lib/python3.11/site-packages (from jupyter-core->nbformat) (4.2.0)\n",
      "Note: you may need to restart the kernel to use updated packages.\n"
     ]
    }
   ],
   "source": [
    "%pip install pyodbc\n",
    "%pip install duckdb\n",
    "%pip install splink\n",
    "%pip install usaddress\n",
    "%pip install nbformat"
   ]
  },
  {
   "cell_type": "code",
   "execution_count": 3,
   "metadata": {},
   "outputs": [],
   "source": [
    "import pyodbc\n",
    "import os\n",
    "import pandas as pd\n",
    "import re\n",
    "import usaddress\n",
    "import time\n",
    "import phonetics\n"
   ]
  },
  {
   "cell_type": "code",
   "execution_count": 4,
   "metadata": {},
   "outputs": [
    {
     "data": {
      "text/plain": [
       "Index(['SynchronizationTimestamp', 'Status', 'PER_SiteCode', 'PER_RowID',\n",
       "       'PER_RootID', 'PER_ClientID', 'PER_CreateDate', 'PER_UpdateDate',\n",
       "       'PER_IsPatient', 'PER_IsContact', 'PER_IsFamilyMember', 'PER_IsPrimary',\n",
       "       'PER_IsVersion', 'PER_LastName', 'PER_FirstName', 'PER_MiddleName',\n",
       "       'PER_ThirdName', 'PER_FourthName', 'PER_NameSuffix', 'PER_NamePrefix',\n",
       "       'PER_SSN', 'PER_DOB', 'PER_PrimaryLanguage', 'PER_Age', 'PER_Ethnicity',\n",
       "       'PER_ReportedRace', 'PER_DateOfUSArrival', 'PER_Sex',\n",
       "       'PER_MaritalStatus', 'PER_StateNumber', 'PER_ResidenceCounty',\n",
       "       'PER_CountryofResidence', 'PER_CountryofBirth',\n",
       "       'PER_PrimaryNationality', 'PER_ParentOrGuardianName',\n",
       "       'PER_LastNameAlphaUp', 'PER_FirstNameAlphaUp', 'PER_DOD',\n",
       "       'PER_DeceasedStatus', 'PER_StatusFlag', 'PER_StreetAddress',\n",
       "       'PER_Apartment', 'PER_City', 'PER_State', 'PER_Zip', 'PER_CensusTract',\n",
       "       'PER_Latitude', 'PER_Longitude', 'PER_AddressStandardized',\n",
       "       'PER_CountyFIPS', 'PER_County', 'PER_CensusBlock', 'PER_ZipPlus4',\n",
       "       'PER_HomePhone', 'PER_CellularPhoneOrPager',\n",
       "       'PER_WorkOrSchoolTelephone', 'PER_Email',\n",
       "       'PER_OtherElectronicContactInformation', 'PER_WorkOrSchoolLocation',\n",
       "       'PER_WorkOrSchoolContact', 'PER_OccupationSettingType',\n",
       "       'PER_OccupationSettingTypeSpecify', 'PER_Occupation',\n",
       "       'PER_OccupationSpecify', 'PER_OccupationLocation',\n",
       "       'PER_HomePhoneAlphaUp', 'PER_WorkSchoolPhoneAlphaUp', 'PER_FolderID',\n",
       "       'PER_CaseActID', 'PER_PrimaryLanguageDR', 'PER_EthnicityDR',\n",
       "       'PER_ReportedRaceDR', 'PER_SexDR', 'PER_MaritalStatusDR',\n",
       "       'PER_ResidenceCountyDR', 'PER_CountryofResidenceDR',\n",
       "       'PER_CountryofBirthDR', 'PER_PrimaryNationalityDR',\n",
       "       'PER_DeceasedStatusDR', 'PER_StatusFlagDR',\n",
       "       'PER_WorkOrSchoolLocationDR', 'PER_OccupationSettingTypeDR',\n",
       "       'PER_OccupationDR', 'ID', 'address_source2', 'id'],\n",
       "      dtype='object')"
      ]
     },
     "execution_count": 4,
     "metadata": {},
     "output_type": "execute_result"
    }
   ],
   "source": [
    "csvFile.columns"
   ]
  },
  {
   "cell_type": "code",
   "execution_count": 5,
   "metadata": {},
   "outputs": [
    {
     "name": "stderr",
     "output_type": "stream",
     "text": [
      "/tmp/ipykernel_26553/3890102094.py:5: SettingWithCopyWarning: \n",
      "A value is trying to be set on a copy of a slice from a DataFrame.\n",
      "Try using .loc[row_indexer,col_indexer] = value instead\n",
      "\n",
      "See the caveats in the documentation: https://pandas.pydata.org/pandas-docs/stable/user_guide/indexing.html#returning-a-view-versus-a-copy\n",
      "  cleaned_df9_subset[all_columns] = cleaned_df9_subset[all_columns].astype(str)\n"
     ]
    }
   ],
   "source": [
    "cleaned_df9_subset=csvFile[['PER_LastName', 'PER_FirstName', 'PER_MiddleName',  'PER_SSN', 'PER_DOB',  'PER_HomePhone', 'PER_CellularPhoneOrPager',\n",
    "        'PER_Email', 'PER_Apartment', 'PER_City', 'PER_State', 'PER_Zip', 'id']]\n",
    "\n",
    "all_columns = list(cleaned_df9_subset) # Creates list of all column headers\n",
    "cleaned_df9_subset[all_columns] = cleaned_df9_subset[all_columns].astype(str)"
   ]
  },
  {
   "cell_type": "code",
   "execution_count": 6,
   "metadata": {},
   "outputs": [
    {
     "name": "stderr",
     "output_type": "stream",
     "text": [
      "/tmp/ipykernel_26553/2709407767.py:14: SettingWithCopyWarning: \n",
      "A value is trying to be set on a copy of a slice from a DataFrame.\n",
      "Try using .loc[row_indexer,col_indexer] = value instead\n",
      "\n",
      "See the caveats in the documentation: https://pandas.pydata.org/pandas-docs/stable/user_guide/indexing.html#returning-a-view-versus-a-copy\n",
      "  cleaned_df9_subset['firstname_dm'] = cleaned_df9_subset['PER_FirstName'].apply(dmetaphone_name)\n",
      "/tmp/ipykernel_26553/2709407767.py:15: SettingWithCopyWarning: \n",
      "A value is trying to be set on a copy of a slice from a DataFrame.\n",
      "Try using .loc[row_indexer,col_indexer] = value instead\n",
      "\n",
      "See the caveats in the documentation: https://pandas.pydata.org/pandas-docs/stable/user_guide/indexing.html#returning-a-view-versus-a-copy\n",
      "  cleaned_df9_subset['lastname_dm'] = cleaned_df9_subset['PER_LastName'].apply(dmetaphone_name)\n",
      "/tmp/ipykernel_26553/2709407767.py:16: SettingWithCopyWarning: \n",
      "A value is trying to be set on a copy of a slice from a DataFrame.\n",
      "Try using .loc[row_indexer,col_indexer] = value instead\n",
      "\n",
      "See the caveats in the documentation: https://pandas.pydata.org/pandas-docs/stable/user_guide/indexing.html#returning-a-view-versus-a-copy\n",
      "  cleaned_df9_subset['middlename_dm'] = cleaned_df9_subset['PER_MiddleName'].apply(dmetaphone_name)\n",
      "/tmp/ipykernel_26553/2709407767.py:20: SettingWithCopyWarning: \n",
      "A value is trying to be set on a copy of a slice from a DataFrame.\n",
      "Try using .loc[row_indexer,col_indexer] = value instead\n",
      "\n",
      "See the caveats in the documentation: https://pandas.pydata.org/pandas-docs/stable/user_guide/indexing.html#returning-a-view-versus-a-copy\n",
      "  cleaned_df9_subset['full_name'] = cleaned_df9_subset['PER_FirstName'] + ' ' + cleaned_df9_subset['PER_LastName']\n"
     ]
    }
   ],
   "source": [
    "#Feature engineering for RecordLinkage/Deduplication\n",
    "\n",
    "import pandas as pd\n",
    "import phonetics\n",
    "\n",
    "# Define a function to apply the dmetaphone phonetic algorithm to each name in the column\n",
    "def dmetaphone_name(name):\n",
    "    if name is None:\n",
    "        pass\n",
    "    else:\n",
    "        return phonetics.dmetaphone(name)\n",
    "\n",
    "# Apply the function to the \"first_name\", lastname and middlename columns using the apply method\n",
    "cleaned_df9_subset['firstname_dm'] = cleaned_df9_subset['PER_FirstName'].apply(dmetaphone_name)\n",
    "cleaned_df9_subset['lastname_dm'] = cleaned_df9_subset['PER_LastName'].apply(dmetaphone_name)\n",
    "cleaned_df9_subset['middlename_dm'] = cleaned_df9_subset['PER_MiddleName'].apply(dmetaphone_name)\n",
    "\n",
    "\n",
    "# Create a new column \"full_name\" by combining \"first_name\" and \"surname\" columns\n",
    "cleaned_df9_subset['full_name'] = cleaned_df9_subset['PER_FirstName'] + ' ' + cleaned_df9_subset['PER_LastName']"
   ]
  },
  {
   "cell_type": "code",
   "execution_count": 7,
   "metadata": {},
   "outputs": [
    {
     "name": "stderr",
     "output_type": "stream",
     "text": [
      "/tmp/ipykernel_26553/86631419.py:1: SettingWithCopyWarning: \n",
      "A value is trying to be set on a copy of a slice from a DataFrame.\n",
      "Try using .loc[row_indexer,col_indexer] = value instead\n",
      "\n",
      "See the caveats in the documentation: https://pandas.pydata.org/pandas-docs/stable/user_guide/indexing.html#returning-a-view-versus-a-copy\n",
      "  cleaned_df9_subset['PER_DOB']=  pd.to_datetime(cleaned_df9_subset['PER_DOB'])\n"
     ]
    }
   ],
   "source": [
    "cleaned_df9_subset['PER_DOB']=  pd.to_datetime(cleaned_df9_subset['PER_DOB'])"
   ]
  },
  {
   "cell_type": "code",
   "execution_count": 8,
   "metadata": {},
   "outputs": [
    {
     "name": "stdout",
     "output_type": "stream",
     "text": [
      "PER_LastName                  0\n",
      "lastname_dm                   0\n",
      "firstname_dm                  0\n",
      "id                            0\n",
      "PER_Zip                       0\n",
      "PER_State                     0\n",
      "PER_City                      0\n",
      "middlename_dm                 0\n",
      "PER_Apartment                 0\n",
      "PER_CellularPhoneOrPager      0\n",
      "PER_HomePhone                 0\n",
      "PER_SSN                       0\n",
      "PER_MiddleName                0\n",
      "PER_FirstName                 0\n",
      "PER_Email                     0\n",
      "full_name                     0\n",
      "PER_DOB                     139\n",
      "dtype: int64\n"
     ]
    }
   ],
   "source": [
    "counts = cleaned_df9_subset.isna().sum()\n",
    "print(counts.sort_values())"
   ]
  },
  {
   "cell_type": "code",
   "execution_count": 9,
   "metadata": {},
   "outputs": [],
   "source": [
    "from splink.duckdb.linker import DuckDBLinker\n",
    "#from splink.spark.linker import SparkLinker\n",
    "\n",
    "settings = {\n",
    "    \"unique_id_column_name\": \"id\",\n",
    "    \"link_type\": \"dedupe_only\",\n",
    "}\n",
    "\n",
    "linker = DuckDBLinker(cleaned_df9_subset, settings)"
   ]
  },
  {
   "cell_type": "code",
   "execution_count": 10,
   "metadata": {},
   "outputs": [
    {
     "data": {
      "text/html": [
       "\n",
       "<style>\n",
       "  #altair-viz-6811081e3d464b6eaf23dd272f559724.vega-embed {\n",
       "    width: 100%;\n",
       "    display: flex;\n",
       "  }\n",
       "\n",
       "  #altair-viz-6811081e3d464b6eaf23dd272f559724.vega-embed details,\n",
       "  #altair-viz-6811081e3d464b6eaf23dd272f559724.vega-embed details summary {\n",
       "    position: relative;\n",
       "  }\n",
       "</style>\n",
       "<div id=\"altair-viz-6811081e3d464b6eaf23dd272f559724\"></div>\n",
       "<script type=\"text/javascript\">\n",
       "  var VEGA_DEBUG = (typeof VEGA_DEBUG == \"undefined\") ? {} : VEGA_DEBUG;\n",
       "  (function(spec, embedOpt){\n",
       "    let outputDiv = document.currentScript.previousElementSibling;\n",
       "    if (outputDiv.id !== \"altair-viz-6811081e3d464b6eaf23dd272f559724\") {\n",
       "      outputDiv = document.getElementById(\"altair-viz-6811081e3d464b6eaf23dd272f559724\");\n",
       "    }\n",
       "    const paths = {\n",
       "      \"vega\": \"https://cdn.jsdelivr.net/npm/vega@5?noext\",\n",
       "      \"vega-lib\": \"https://cdn.jsdelivr.net/npm/vega-lib?noext\",\n",
       "      \"vega-lite\": \"https://cdn.jsdelivr.net/npm/vega-lite@5.16.3?noext\",\n",
       "      \"vega-embed\": \"https://cdn.jsdelivr.net/npm/vega-embed@6?noext\",\n",
       "    };\n",
       "\n",
       "    function maybeLoadScript(lib, version) {\n",
       "      var key = `${lib.replace(\"-\", \"\")}_version`;\n",
       "      return (VEGA_DEBUG[key] == version) ?\n",
       "        Promise.resolve(paths[lib]) :\n",
       "        new Promise(function(resolve, reject) {\n",
       "          var s = document.createElement('script');\n",
       "          document.getElementsByTagName(\"head\")[0].appendChild(s);\n",
       "          s.async = true;\n",
       "          s.onload = () => {\n",
       "            VEGA_DEBUG[key] = version;\n",
       "            return resolve(paths[lib]);\n",
       "          };\n",
       "          s.onerror = () => reject(`Error loading script: ${paths[lib]}`);\n",
       "          s.src = paths[lib];\n",
       "        });\n",
       "    }\n",
       "\n",
       "    function showError(err) {\n",
       "      outputDiv.innerHTML = `<div class=\"error\" style=\"color:red;\">${err}</div>`;\n",
       "      throw err;\n",
       "    }\n",
       "\n",
       "    function displayChart(vegaEmbed) {\n",
       "      vegaEmbed(outputDiv, spec, embedOpt)\n",
       "        .catch(err => showError(`Javascript Error: ${err.message}<br>This usually means there's a typo in your chart specification. See the javascript console for the full traceback.`));\n",
       "    }\n",
       "\n",
       "    if(typeof define === \"function\" && define.amd) {\n",
       "      requirejs.config({paths});\n",
       "      require([\"vega-embed\"], displayChart, err => showError(`Error loading script: ${err.message}`));\n",
       "    } else {\n",
       "      maybeLoadScript(\"vega\", \"5\")\n",
       "        .then(() => maybeLoadScript(\"vega-lite\", \"5.16.3\"))\n",
       "        .then(() => maybeLoadScript(\"vega-embed\", \"6\"))\n",
       "        .catch(showError)\n",
       "        .then(() => displayChart(vegaEmbed));\n",
       "    }\n",
       "  })({\"config\": {\"view\": {\"continuousWidth\": 300, \"continuousHeight\": 300}}, \"data\": {\"name\": \"data-ac3ec38961147cfab955dce3d62da001\"}, \"mark\": \"bar\", \"encoding\": {\"color\": {\"field\": \"rule\", \"legend\": null, \"scale\": {\"scheme\": \"category20c\"}}, \"order\": {\"field\": \"cumulative_rows\"}, \"tooltip\": [{\"field\": \"rule\", \"title\": \"SQL Condition\", \"type\": \"nominal\"}, {\"field\": \"row_count\", \"format\": \",\", \"title\": \"Comparisons Generated\", \"type\": \"quantitative\"}, {\"field\": \"cumulative_rows\", \"format\": \",\", \"title\": \"Cumulative Comparisons\", \"type\": \"quantitative\"}, {\"field\": \"cartesian\", \"format\": \",\", \"title\": \"Cartesian Product of Input Data\", \"type\": \"quantitative\"}, {\"field\": \"reduction_ratio\", \"title\": \"Reduction Ratio (cumulative rows/cartesian product)\", \"type\": \"nominal\"}], \"x\": {\"field\": \"start\", \"title\": \"Comparisons Generated by Rule(s)\", \"type\": \"quantitative\"}, \"x2\": {\"field\": \"cumulative_rows\"}, \"y\": {\"field\": \"rule\", \"sort\": [\"-x2\"], \"title\": \"SQL Blocking Rule\"}}, \"height\": {\"step\": 20}, \"title\": {\"text\": \"Count of Additional Comparisons Generated by Each Blocking Rule\", \"subtitle\": \"(Counts exclude comparisons already generated by previous rules)\"}, \"width\": 450, \"$schema\": \"https://vega.github.io/schema/vega-lite/v5.9.3.json\", \"datasets\": {\"data-ac3ec38961147cfab955dce3d62da001\": [{\"row_count\": 9107013, \"rule\": \"l.\\\"lastname_dm\\\" = r.\\\"lastname_dm\\\"\", \"cumulative_rows\": 9107013, \"cartesian\": 4999950000, \"reduction_ratio\": \"The rolling reduction ratio with your given blocking rule(s) is 0.998179. This represents the reduction in the total number of comparisons due to your rule(s).\", \"start\": 0}, {\"row_count\": 0, \"rule\": \"l.\\\"PER_LastName\\\" = r.\\\"PER_LastName\\\"\", \"cumulative_rows\": 9107013, \"cartesian\": 4999950000, \"reduction_ratio\": \"The rolling reduction ratio with your given blocking rule(s) is 0.998179. This represents the reduction in the total number of comparisons due to your rule(s).\", \"start\": 9107013}, {\"row_count\": 1, \"rule\": \"l.\\\"full_name\\\" = r.\\\"full_name\\\"\", \"cumulative_rows\": 9107014, \"cartesian\": 4999950000, \"reduction_ratio\": \"The rolling reduction ratio with your given blocking rule(s) is 0.998179. This represents the reduction in the total number of comparisons due to your rule(s).\", \"start\": 9107013}, {\"row_count\": 15088186, \"rule\": \"l.\\\"firstname_dm\\\" = r.\\\"firstname_dm\\\"\", \"cumulative_rows\": 24195200, \"cartesian\": 4999950000, \"reduction_ratio\": \"The rolling reduction ratio with your given blocking rule(s) is 0.995161. This represents the reduction in the total number of comparisons due to your rule(s).\", \"start\": 9107014}, {\"row_count\": 0, \"rule\": \"l.\\\"PER_FirstName\\\" = r.\\\"PER_FirstName\\\"\", \"cumulative_rows\": 24195200, \"cartesian\": 4999950000, \"reduction_ratio\": \"The rolling reduction ratio with your given blocking rule(s) is 0.995161. This represents the reduction in the total number of comparisons due to your rule(s).\", \"start\": 24195200}, {\"row_count\": 196486, \"rule\": \"l.\\\"PER_DOB\\\" = r.\\\"PER_DOB\\\"\", \"cumulative_rows\": 24391686, \"cartesian\": 4999950000, \"reduction_ratio\": \"The rolling reduction ratio with your given blocking rule(s) is 0.995122. This represents the reduction in the total number of comparisons due to your rule(s).\", \"start\": 24195200}, {\"row_count\": 53644808, \"rule\": \"l.\\\"PER_HomePhone\\\" = r.\\\"PER_HomePhone\\\"\", \"cumulative_rows\": 78036494, \"cartesian\": 4999950000, \"reduction_ratio\": \"The rolling reduction ratio with your given blocking rule(s) is 0.984393. This represents the reduction in the total number of comparisons due to your rule(s).\", \"start\": 24391686}, {\"row_count\": 3017666783, \"rule\": \"l.\\\"PER_Email\\\" = r.\\\"PER_Email\\\"\", \"cumulative_rows\": 3095703277, \"cartesian\": 4999950000, \"reduction_ratio\": \"The rolling reduction ratio with your given blocking rule(s) is 0.380853. This represents the reduction in the total number of comparisons due to your rule(s).\", \"start\": 78036494}, {\"row_count\": 1746737040, \"rule\": \"l.\\\"PER_CellularPhoneOrPager\\\" = r.\\\"PER_CellularPhoneOrPager\\\"\", \"cumulative_rows\": 4842440317, \"cartesian\": 4999950000, \"reduction_ratio\": \"The rolling reduction ratio with your given blocking rule(s) is 0.031502. This represents the reduction in the total number of comparisons due to your rule(s).\", \"start\": 3095703277}, {\"row_count\": 99064087, \"rule\": \"l.\\\"middlename_dm\\\" = r.\\\"middlename_dm\\\"\", \"cumulative_rows\": 4941504404, \"cartesian\": 4999950000, \"reduction_ratio\": \"The rolling reduction ratio with your given blocking rule(s) is 0.011689. This represents the reduction in the total number of comparisons due to your rule(s).\", \"start\": 4842440317}, {\"row_count\": 57334095, \"rule\": \"l.\\\"PER_SSN\\\" = r.\\\"PER_SSN\\\"\", \"cumulative_rows\": 4998838499, \"cartesian\": 4999950000, \"reduction_ratio\": \"The rolling reduction ratio with your given blocking rule(s) is 0.000222. This represents the reduction in the total number of comparisons due to your rule(s).\", \"start\": 4941504404}]}}, {\"mode\": \"vega-lite\"});\n",
       "</script>"
      ],
      "text/plain": [
       "alt.Chart(...)"
      ]
     },
     "execution_count": 10,
     "metadata": {},
     "output_type": "execute_result"
    }
   ],
   "source": [
    "from splink.duckdb.blocking_rule_library import block_on\n",
    "\n",
    "blocking_rules = [\n",
    "        block_on(\"lastname_dm\"),\n",
    "        block_on(\"PER_LastName\"),\n",
    "        block_on(\"full_name\"),\n",
    "        block_on(\"firstname_dm\"),\n",
    "        block_on(\"PER_FirstName\"),\n",
    "        block_on(\"PER_DOB\"),\n",
    "        block_on(\"PER_HomePhone\"),\n",
    "        block_on(\"PER_Email\"),\n",
    "        block_on(\"PER_CellularPhoneOrPager\"),\n",
    "        block_on(\"middlename_dm\"),\n",
    "        block_on(\"PER_SSN\")\n",
    "]\n",
    "linker.cumulative_num_comparisons_from_blocking_rules_chart(blocking_rules)"
   ]
  },
  {
   "cell_type": "code",
   "execution_count": 11,
   "metadata": {},
   "outputs": [
    {
     "data": {
      "text/html": [
       "\n",
       "<style>\n",
       "  #altair-viz-fa9a6a32590c48acbef0376b0184fa30.vega-embed {\n",
       "    width: 100%;\n",
       "    display: flex;\n",
       "  }\n",
       "\n",
       "  #altair-viz-fa9a6a32590c48acbef0376b0184fa30.vega-embed details,\n",
       "  #altair-viz-fa9a6a32590c48acbef0376b0184fa30.vega-embed details summary {\n",
       "    position: relative;\n",
       "  }\n",
       "</style>\n",
       "<div id=\"altair-viz-fa9a6a32590c48acbef0376b0184fa30\"></div>\n",
       "<script type=\"text/javascript\">\n",
       "  var VEGA_DEBUG = (typeof VEGA_DEBUG == \"undefined\") ? {} : VEGA_DEBUG;\n",
       "  (function(spec, embedOpt){\n",
       "    let outputDiv = document.currentScript.previousElementSibling;\n",
       "    if (outputDiv.id !== \"altair-viz-fa9a6a32590c48acbef0376b0184fa30\") {\n",
       "      outputDiv = document.getElementById(\"altair-viz-fa9a6a32590c48acbef0376b0184fa30\");\n",
       "    }\n",
       "    const paths = {\n",
       "      \"vega\": \"https://cdn.jsdelivr.net/npm/vega@5?noext\",\n",
       "      \"vega-lib\": \"https://cdn.jsdelivr.net/npm/vega-lib?noext\",\n",
       "      \"vega-lite\": \"https://cdn.jsdelivr.net/npm/vega-lite@5.16.3?noext\",\n",
       "      \"vega-embed\": \"https://cdn.jsdelivr.net/npm/vega-embed@6?noext\",\n",
       "    };\n",
       "\n",
       "    function maybeLoadScript(lib, version) {\n",
       "      var key = `${lib.replace(\"-\", \"\")}_version`;\n",
       "      return (VEGA_DEBUG[key] == version) ?\n",
       "        Promise.resolve(paths[lib]) :\n",
       "        new Promise(function(resolve, reject) {\n",
       "          var s = document.createElement('script');\n",
       "          document.getElementsByTagName(\"head\")[0].appendChild(s);\n",
       "          s.async = true;\n",
       "          s.onload = () => {\n",
       "            VEGA_DEBUG[key] = version;\n",
       "            return resolve(paths[lib]);\n",
       "          };\n",
       "          s.onerror = () => reject(`Error loading script: ${paths[lib]}`);\n",
       "          s.src = paths[lib];\n",
       "        });\n",
       "    }\n",
       "\n",
       "    function showError(err) {\n",
       "      outputDiv.innerHTML = `<div class=\"error\" style=\"color:red;\">${err}</div>`;\n",
       "      throw err;\n",
       "    }\n",
       "\n",
       "    function displayChart(vegaEmbed) {\n",
       "      vegaEmbed(outputDiv, spec, embedOpt)\n",
       "        .catch(err => showError(`Javascript Error: ${err.message}<br>This usually means there's a typo in your chart specification. See the javascript console for the full traceback.`));\n",
       "    }\n",
       "\n",
       "    if(typeof define === \"function\" && define.amd) {\n",
       "      requirejs.config({paths});\n",
       "      require([\"vega-embed\"], displayChart, err => showError(`Error loading script: ${err.message}`));\n",
       "    } else {\n",
       "      maybeLoadScript(\"vega\", \"5\")\n",
       "        .then(() => maybeLoadScript(\"vega-lite\", \"5.16.3\"))\n",
       "        .then(() => maybeLoadScript(\"vega-embed\", \"6\"))\n",
       "        .catch(showError)\n",
       "        .then(() => displayChart(vegaEmbed));\n",
       "    }\n",
       "  })({\"config\": {\"view\": {\"continuousWidth\": 300, \"continuousHeight\": 300}}, \"data\": {\"name\": \"data-a8e4a8180742fa9c04244892180d121c\"}, \"mark\": \"bar\", \"encoding\": {\"color\": {\"field\": \"rule\", \"legend\": null, \"scale\": {\"scheme\": \"category20c\"}}, \"order\": {\"field\": \"cumulative_rows\"}, \"tooltip\": [{\"field\": \"rule\", \"title\": \"SQL Condition\", \"type\": \"nominal\"}, {\"field\": \"row_count\", \"format\": \",\", \"title\": \"Comparisons Generated\", \"type\": \"quantitative\"}, {\"field\": \"cumulative_rows\", \"format\": \",\", \"title\": \"Cumulative Comparisons\", \"type\": \"quantitative\"}, {\"field\": \"cartesian\", \"format\": \",\", \"title\": \"Cartesian Product of Input Data\", \"type\": \"quantitative\"}, {\"field\": \"reduction_ratio\", \"title\": \"Reduction Ratio (cumulative rows/cartesian product)\", \"type\": \"nominal\"}], \"x\": {\"field\": \"start\", \"title\": \"Comparisons Generated by Rule(s)\", \"type\": \"quantitative\"}, \"x2\": {\"field\": \"cumulative_rows\"}, \"y\": {\"field\": \"rule\", \"sort\": [\"-x2\"], \"title\": \"SQL Blocking Rule\"}}, \"height\": {\"step\": 20}, \"title\": {\"text\": \"Count of Additional Comparisons Generated by Each Blocking Rule\", \"subtitle\": \"(Counts exclude comparisons already generated by previous rules)\"}, \"width\": 450, \"$schema\": \"https://vega.github.io/schema/vega-lite/v5.9.3.json\", \"datasets\": {\"data-a8e4a8180742fa9c04244892180d121c\": [{\"row_count\": 9107013, \"rule\": \"l.\\\"lastname_dm\\\" = r.\\\"lastname_dm\\\"\", \"cumulative_rows\": 9107013, \"cartesian\": 4999950000, \"reduction_ratio\": \"The rolling reduction ratio with your given blocking rule(s) is 0.998179. This represents the reduction in the total number of comparisons due to your rule(s).\", \"start\": 0}, {\"row_count\": 0, \"rule\": \"l.\\\"PER_LastName\\\" = r.\\\"PER_LastName\\\"\", \"cumulative_rows\": 9107013, \"cartesian\": 4999950000, \"reduction_ratio\": \"The rolling reduction ratio with your given blocking rule(s) is 0.998179. This represents the reduction in the total number of comparisons due to your rule(s).\", \"start\": 9107013}, {\"row_count\": 1, \"rule\": \"l.\\\"full_name\\\" = r.\\\"full_name\\\"\", \"cumulative_rows\": 9107014, \"cartesian\": 4999950000, \"reduction_ratio\": \"The rolling reduction ratio with your given blocking rule(s) is 0.998179. This represents the reduction in the total number of comparisons due to your rule(s).\", \"start\": 9107013}, {\"row_count\": 15088186, \"rule\": \"l.\\\"firstname_dm\\\" = r.\\\"firstname_dm\\\"\", \"cumulative_rows\": 24195200, \"cartesian\": 4999950000, \"reduction_ratio\": \"The rolling reduction ratio with your given blocking rule(s) is 0.995161. This represents the reduction in the total number of comparisons due to your rule(s).\", \"start\": 9107014}, {\"row_count\": 0, \"rule\": \"l.\\\"PER_FirstName\\\" = r.\\\"PER_FirstName\\\"\", \"cumulative_rows\": 24195200, \"cartesian\": 4999950000, \"reduction_ratio\": \"The rolling reduction ratio with your given blocking rule(s) is 0.995161. This represents the reduction in the total number of comparisons due to your rule(s).\", \"start\": 24195200}, {\"row_count\": 196486, \"rule\": \"l.\\\"PER_DOB\\\" = r.\\\"PER_DOB\\\"\", \"cumulative_rows\": 24391686, \"cartesian\": 4999950000, \"reduction_ratio\": \"The rolling reduction ratio with your given blocking rule(s) is 0.995122. This represents the reduction in the total number of comparisons due to your rule(s).\", \"start\": 24195200}, {\"row_count\": 53644808, \"rule\": \"l.\\\"PER_HomePhone\\\" = r.\\\"PER_HomePhone\\\"\", \"cumulative_rows\": 78036494, \"cartesian\": 4999950000, \"reduction_ratio\": \"The rolling reduction ratio with your given blocking rule(s) is 0.984393. This represents the reduction in the total number of comparisons due to your rule(s).\", \"start\": 24391686}, {\"row_count\": 3882326657, \"rule\": \"l.\\\"middlename_dm\\\" = r.\\\"middlename_dm\\\"\", \"cumulative_rows\": 3960363151, \"cartesian\": 4999950000, \"reduction_ratio\": \"The rolling reduction ratio with your given blocking rule(s) is 0.207919. This represents the reduction in the total number of comparisons due to your rule(s).\", \"start\": 78036494}, {\"row_count\": 995509256, \"rule\": \"l.\\\"PER_SSN\\\" = r.\\\"PER_SSN\\\"\", \"cumulative_rows\": 4955872407, \"cartesian\": 4999950000, \"reduction_ratio\": \"The rolling reduction ratio with your given blocking rule(s) is 0.008816. This represents the reduction in the total number of comparisons due to your rule(s).\", \"start\": 3960363151}]}}, {\"mode\": \"vega-lite\"});\n",
       "</script>"
      ],
      "text/plain": [
       "alt.Chart(...)"
      ]
     },
     "execution_count": 11,
     "metadata": {},
     "output_type": "execute_result"
    }
   ],
   "source": [
    "from splink.duckdb.blocking_rule_library import block_on\n",
    "\n",
    "blocking_rules = [\n",
    "        block_on(\"lastname_dm\"),\n",
    "        block_on(\"PER_LastName\"),\n",
    "        block_on(\"full_name\"),\n",
    "        block_on(\"firstname_dm\"),\n",
    "        block_on(\"PER_FirstName\"),\n",
    "        block_on(\"PER_DOB\"),\n",
    "        block_on(\"PER_HomePhone\"),\n",
    "        #block_on(\"PER_Email\"),\n",
    "        #block_on(\"PER_CellularPhoneOrPager\"),\n",
    "        block_on(\"middlename_dm\"),\n",
    "        block_on(\"PER_SSN\")\n",
    "]\n",
    "linker.cumulative_num_comparisons_from_blocking_rules_chart(blocking_rules)"
   ]
  },
  {
   "cell_type": "code",
   "execution_count": 11,
   "metadata": {},
   "outputs": [
    {
     "data": {
      "text/html": [
       "\n",
       "<style>\n",
       "  #altair-viz-a3810a8c61da4725a0a97a764026c27d.vega-embed {\n",
       "    width: 100%;\n",
       "    display: flex;\n",
       "  }\n",
       "\n",
       "  #altair-viz-a3810a8c61da4725a0a97a764026c27d.vega-embed details,\n",
       "  #altair-viz-a3810a8c61da4725a0a97a764026c27d.vega-embed details summary {\n",
       "    position: relative;\n",
       "  }\n",
       "</style>\n",
       "<div id=\"altair-viz-a3810a8c61da4725a0a97a764026c27d\"></div>\n",
       "<script type=\"text/javascript\">\n",
       "  var VEGA_DEBUG = (typeof VEGA_DEBUG == \"undefined\") ? {} : VEGA_DEBUG;\n",
       "  (function(spec, embedOpt){\n",
       "    let outputDiv = document.currentScript.previousElementSibling;\n",
       "    if (outputDiv.id !== \"altair-viz-a3810a8c61da4725a0a97a764026c27d\") {\n",
       "      outputDiv = document.getElementById(\"altair-viz-a3810a8c61da4725a0a97a764026c27d\");\n",
       "    }\n",
       "    const paths = {\n",
       "      \"vega\": \"https://cdn.jsdelivr.net/npm/vega@5?noext\",\n",
       "      \"vega-lib\": \"https://cdn.jsdelivr.net/npm/vega-lib?noext\",\n",
       "      \"vega-lite\": \"https://cdn.jsdelivr.net/npm/vega-lite@5.16.3?noext\",\n",
       "      \"vega-embed\": \"https://cdn.jsdelivr.net/npm/vega-embed@6?noext\",\n",
       "    };\n",
       "\n",
       "    function maybeLoadScript(lib, version) {\n",
       "      var key = `${lib.replace(\"-\", \"\")}_version`;\n",
       "      return (VEGA_DEBUG[key] == version) ?\n",
       "        Promise.resolve(paths[lib]) :\n",
       "        new Promise(function(resolve, reject) {\n",
       "          var s = document.createElement('script');\n",
       "          document.getElementsByTagName(\"head\")[0].appendChild(s);\n",
       "          s.async = true;\n",
       "          s.onload = () => {\n",
       "            VEGA_DEBUG[key] = version;\n",
       "            return resolve(paths[lib]);\n",
       "          };\n",
       "          s.onerror = () => reject(`Error loading script: ${paths[lib]}`);\n",
       "          s.src = paths[lib];\n",
       "        });\n",
       "    }\n",
       "\n",
       "    function showError(err) {\n",
       "      outputDiv.innerHTML = `<div class=\"error\" style=\"color:red;\">${err}</div>`;\n",
       "      throw err;\n",
       "    }\n",
       "\n",
       "    function displayChart(vegaEmbed) {\n",
       "      vegaEmbed(outputDiv, spec, embedOpt)\n",
       "        .catch(err => showError(`Javascript Error: ${err.message}<br>This usually means there's a typo in your chart specification. See the javascript console for the full traceback.`));\n",
       "    }\n",
       "\n",
       "    if(typeof define === \"function\" && define.amd) {\n",
       "      requirejs.config({paths});\n",
       "      require([\"vega-embed\"], displayChart, err => showError(`Error loading script: ${err.message}`));\n",
       "    } else {\n",
       "      maybeLoadScript(\"vega\", \"5\")\n",
       "        .then(() => maybeLoadScript(\"vega-lite\", \"5.16.3\"))\n",
       "        .then(() => maybeLoadScript(\"vega-embed\", \"6\"))\n",
       "        .catch(showError)\n",
       "        .then(() => displayChart(vegaEmbed));\n",
       "    }\n",
       "  })({\"config\": {\"view\": {\"continuousWidth\": 300, \"continuousHeight\": 300}}, \"data\": {\"name\": \"data-5c36a5c8e85ab8565b0972e78e30e03c\"}, \"mark\": \"bar\", \"encoding\": {\"color\": {\"field\": \"rule\", \"legend\": null, \"scale\": {\"scheme\": \"category20c\"}}, \"order\": {\"field\": \"cumulative_rows\"}, \"tooltip\": [{\"field\": \"rule\", \"title\": \"SQL Condition\", \"type\": \"nominal\"}, {\"field\": \"row_count\", \"format\": \",\", \"title\": \"Comparisons Generated\", \"type\": \"quantitative\"}, {\"field\": \"cumulative_rows\", \"format\": \",\", \"title\": \"Cumulative Comparisons\", \"type\": \"quantitative\"}, {\"field\": \"cartesian\", \"format\": \",\", \"title\": \"Cartesian Product of Input Data\", \"type\": \"quantitative\"}, {\"field\": \"reduction_ratio\", \"title\": \"Reduction Ratio (cumulative rows/cartesian product)\", \"type\": \"nominal\"}], \"x\": {\"field\": \"start\", \"title\": \"Comparisons Generated by Rule(s)\", \"type\": \"quantitative\"}, \"x2\": {\"field\": \"cumulative_rows\"}, \"y\": {\"field\": \"rule\", \"sort\": [\"-x2\"], \"title\": \"SQL Blocking Rule\"}}, \"height\": {\"step\": 20}, \"title\": {\"text\": \"Count of Additional Comparisons Generated by Each Blocking Rule\", \"subtitle\": \"(Counts exclude comparisons already generated by previous rules)\"}, \"width\": 450, \"$schema\": \"https://vega.github.io/schema/vega-lite/v5.9.3.json\", \"datasets\": {\"data-5c36a5c8e85ab8565b0972e78e30e03c\": [{\"row_count\": 3221114, \"rule\": \"l.\\\"PER_LastName\\\" = r.\\\"PER_LastName\\\"\", \"cumulative_rows\": 3221114, \"cartesian\": 4999950000, \"reduction_ratio\": \"The rolling reduction ratio with your given blocking rule(s) is 0.999356. This represents the reduction in the total number of comparisons due to your rule(s).\", \"start\": 0}, {\"row_count\": 1, \"rule\": \"l.\\\"full_name\\\" = r.\\\"full_name\\\"\", \"cumulative_rows\": 3221115, \"cartesian\": 4999950000, \"reduction_ratio\": \"The rolling reduction ratio with your given blocking rule(s) is 0.999356. This represents the reduction in the total number of comparisons due to your rule(s).\", \"start\": 3221114}, {\"row_count\": 3333580, \"rule\": \"l.\\\"PER_FirstName\\\" = r.\\\"PER_FirstName\\\"\", \"cumulative_rows\": 6554695, \"cartesian\": 4999950000, \"reduction_ratio\": \"The rolling reduction ratio with your given blocking rule(s) is 0.998689. This represents the reduction in the total number of comparisons due to your rule(s).\", \"start\": 3221115}, {\"row_count\": 197627, \"rule\": \"l.\\\"PER_DOB\\\" = r.\\\"PER_DOB\\\"\", \"cumulative_rows\": 6752322, \"cartesian\": 4999950000, \"reduction_ratio\": \"The rolling reduction ratio with your given blocking rule(s) is 0.99865. This represents the reduction in the total number of comparisons due to your rule(s).\", \"start\": 6554695}]}}, {\"mode\": \"vega-lite\"});\n",
       "</script>"
      ],
      "text/plain": [
       "alt.Chart(...)"
      ]
     },
     "execution_count": 11,
     "metadata": {},
     "output_type": "execute_result"
    }
   ],
   "source": [
    "from splink.duckdb.blocking_rule_library import block_on\n",
    "\n",
    "blocking_rules = [\n",
    "        block_on(\"PER_LastName\"),\n",
    "        block_on(\"full_name\"),\n",
    "        block_on(\"PER_FirstName\"),\n",
    "        block_on(\"PER_DOB\"),\n",
    "]\n",
    "linker.cumulative_num_comparisons_from_blocking_rules_chart(blocking_rules)"
   ]
  },
  {
   "cell_type": "code",
   "execution_count": 12,
   "metadata": {},
   "outputs": [
    {
     "name": "stderr",
     "output_type": "stream",
     "text": [
      "Probability two random records match is estimated to be  6.51e-05.\n",
      "This means that amongst all possible pairwise record comparisons, one in 15,362.95 are expected to match.  With 4,999,950,000 total possible comparisons, we expect a total of around 325,455.00 matching pairs\n"
     ]
    }
   ],
   "source": [
    "import splink.duckdb.comparison_template_library as ctl\n",
    "from splink.duckdb.linker import DuckDBLinker\n",
    "import splink.duckdb.comparison_library as cl\n",
    "\n",
    "\n",
    "import splink.duckdb.comparison_library as cl\n",
    "import splink.duckdb.comparison_template_library as ctl\n",
    "\n",
    "\n",
    "settings = {\n",
    "    \"unique_id_column_name\": \"id\",\n",
    "    \"link_type\": \"dedupe_only\",\n",
    "    \"blocking_rules_to_generate_predictions\": blocking_rules,\n",
    "    \"comparisons\": [\n",
    "        cl.exact_match(\"firstname_dm\"),\n",
    "        cl.exact_match(\"lastname_dm\"),\n",
    "        ctl.name_comparison(\"full_name\"),\n",
    "        ctl.email_comparison(\"PER_Email\", include_username_fuzzy_level=False),\n",
    "        cl.levenshtein_at_thresholds(\"PER_SSN\", [2]),\n",
    "        ctl.date_comparison(\"PER_DOB\"),\n",
    "    ],\n",
    "    \"retain_intermediate_calculation_columns\": True\n",
    "}\n",
    "\n",
    "linker = DuckDBLinker(cleaned_df9_subset, settings, set_up_basic_logging=False)\n",
    "deterministic_rules = [\n",
    "    \"l.PER_SSN = r.PER_SSN and l.PER_DOB = r.PER_DOB\",\n",
    "    \"l.PER_FirstName = r.PER_FirstName and l.PER_DOB = r.PER_DOB\",\n",
    "    \"l.PER_LastName = r.PER_LastName and l.PER_DOB = r.PER_DOB\",\n",
    "]\n",
    "\n",
    "linker.estimate_probability_two_random_records_match(deterministic_rules, recall=0.6)"
   ]
  },
  {
   "cell_type": "code",
   "execution_count": 13,
   "metadata": {},
   "outputs": [
    {
     "name": "stderr",
     "output_type": "stream",
     "text": [
      "----- Estimating u probabilities using random sampling -----\n",
      "\n",
      "Estimated u probabilities using random sampling\n",
      "\n",
      "Your model is not yet fully trained. Missing estimates for:\n",
      "    - firstname_dm (no m values are trained).\n",
      "    - lastname_dm (no m values are trained).\n",
      "    - full_name (no m values are trained).\n",
      "    - PER_Email (no m values are trained).\n",
      "    - PER_SSN (no m values are trained).\n",
      "    - PER_DOB (no m values are trained).\n"
     ]
    }
   ],
   "source": [
    "linker.estimate_u_using_random_sampling(max_pairs=1e8)"
   ]
  },
  {
   "cell_type": "code",
   "execution_count": 14,
   "metadata": {},
   "outputs": [
    {
     "name": "stderr",
     "output_type": "stream",
     "text": [
      "\n",
      "----- Starting EM training session -----\n",
      "\n",
      "Estimating the m probabilities of the model by blocking on:\n",
      "l.\"PER_DOB\" = r.\"PER_DOB\"\n",
      "\n",
      "Parameter estimates will be made for the following comparison(s):\n",
      "    - firstname_dm\n",
      "    - lastname_dm\n",
      "    - full_name\n",
      "    - PER_Email\n",
      "    - PER_SSN\n",
      "\n",
      "Parameter estimates cannot be made for the following comparison(s) since they are used in the blocking rules: \n",
      "    - PER_DOB\n",
      "\n",
      "WARNING:\n",
      "Level Levenshtein <= 2 on comparison PER_SSN not observed in dataset, unable to train m value\n",
      "\n",
      "Iteration 1: Largest change in params was 0.263 in the m_probability of PER_Email, level `All other comparisons`\n",
      "Iteration 2: Largest change in params was -0.31 in the m_probability of full_name, level `Exact match full_name`\n",
      "Iteration 3: Largest change in params was 0.0774 in the m_probability of lastname_dm, level `All other comparisons`\n",
      "Iteration 4: Largest change in params was 0.0232 in the m_probability of full_name, level `All other comparisons`\n",
      "Iteration 5: Largest change in params was 0.0117 in the m_probability of full_name, level `All other comparisons`\n",
      "Iteration 6: Largest change in params was 0.00581 in the m_probability of full_name, level `All other comparisons`\n",
      "Iteration 7: Largest change in params was 0.00298 in the m_probability of full_name, level `All other comparisons`\n",
      "Iteration 8: Largest change in params was 0.00156 in the m_probability of full_name, level `All other comparisons`\n",
      "Iteration 9: Largest change in params was 0.000825 in the m_probability of full_name, level `All other comparisons`\n",
      "Iteration 10: Largest change in params was 0.000439 in the m_probability of full_name, level `All other comparisons`\n",
      "Iteration 11: Largest change in params was 0.000235 in the m_probability of full_name, level `All other comparisons`\n",
      "Iteration 12: Largest change in params was 0.000126 in the m_probability of full_name, level `All other comparisons`\n",
      "Iteration 13: Largest change in params was 6.73e-05 in the m_probability of full_name, level `All other comparisons`\n",
      "\n",
      "EM converged after 13 iterations\n",
      "m probability not trained for PER_SSN - Levenshtein <= 2 (comparison vector value: 1). This usually means the comparison level was never observed in the training data.\n",
      "\n",
      "Your model is not yet fully trained. Missing estimates for:\n",
      "    - PER_SSN (some m values are not trained).\n",
      "    - PER_DOB (no m values are trained).\n"
     ]
    }
   ],
   "source": [
    "from numpy import fix\n",
    "training_blocking_rule = block_on(\"PER_DOB\")\n",
    "training_session_dob = linker.estimate_parameters_using_expectation_maximisation(training_blocking_rule)"
   ]
  },
  {
   "cell_type": "code",
   "execution_count": 15,
   "metadata": {},
   "outputs": [
    {
     "name": "stderr",
     "output_type": "stream",
     "text": [
      "\n",
      "----- Starting EM training session -----\n",
      "\n",
      "Estimating the m probabilities of the model by blocking on:\n",
      "(l.\"firstname_dm\" = r.\"firstname_dm\") AND (l.\"lastname_dm\" = r.\"lastname_dm\")\n",
      "\n",
      "Parameter estimates will be made for the following comparison(s):\n",
      "    - full_name\n",
      "    - PER_Email\n",
      "    - PER_SSN\n",
      "    - PER_DOB\n",
      "\n",
      "Parameter estimates cannot be made for the following comparison(s) since they are used in the blocking rules: \n",
      "    - firstname_dm\n",
      "    - lastname_dm\n",
      "\n",
      "WARNING:\n",
      "Level Levenshtein <= 2 on comparison PER_SSN not observed in dataset, unable to train m value\n",
      "\n",
      "Iteration 1: Largest change in params was -0.909 in the m_probability of PER_DOB, level `Exact match`\n",
      "Iteration 2: Largest change in params was 0.0172 in the m_probability of PER_DOB, level `All other comparisons`\n",
      "Iteration 3: Largest change in params was 0.00861 in the m_probability of full_name, level `All other comparisons`\n",
      "Iteration 4: Largest change in params was 0.00819 in the m_probability of full_name, level `All other comparisons`\n",
      "Iteration 5: Largest change in params was 0.00781 in the m_probability of full_name, level `All other comparisons`\n",
      "Iteration 6: Largest change in params was 0.00745 in the m_probability of full_name, level `All other comparisons`\n",
      "Iteration 7: Largest change in params was 0.00711 in the m_probability of full_name, level `All other comparisons`\n",
      "Iteration 8: Largest change in params was 0.00679 in the m_probability of full_name, level `All other comparisons`\n",
      "Iteration 9: Largest change in params was 0.00649 in the m_probability of full_name, level `All other comparisons`\n",
      "Iteration 10: Largest change in params was 0.00621 in the m_probability of full_name, level `All other comparisons`\n",
      "Iteration 11: Largest change in params was 0.00594 in the m_probability of full_name, level `All other comparisons`\n",
      "Iteration 12: Largest change in params was 0.00568 in the m_probability of full_name, level `All other comparisons`\n",
      "Iteration 13: Largest change in params was 0.00544 in the m_probability of full_name, level `All other comparisons`\n",
      "Iteration 14: Largest change in params was 0.00521 in the m_probability of full_name, level `All other comparisons`\n",
      "Iteration 15: Largest change in params was 0.00499 in the m_probability of full_name, level `All other comparisons`\n",
      "Iteration 16: Largest change in params was 0.00478 in the m_probability of full_name, level `All other comparisons`\n",
      "Iteration 17: Largest change in params was 0.00458 in the m_probability of full_name, level `All other comparisons`\n",
      "Iteration 18: Largest change in params was 0.0044 in the m_probability of full_name, level `All other comparisons`\n",
      "Iteration 19: Largest change in params was 0.00422 in the m_probability of full_name, level `All other comparisons`\n",
      "Iteration 20: Largest change in params was 0.00405 in the m_probability of full_name, level `All other comparisons`\n",
      "Iteration 21: Largest change in params was 0.00389 in the m_probability of full_name, level `All other comparisons`\n",
      "Iteration 22: Largest change in params was 0.00374 in the m_probability of full_name, level `All other comparisons`\n",
      "Iteration 23: Largest change in params was 0.00359 in the m_probability of full_name, level `All other comparisons`\n",
      "Iteration 24: Largest change in params was 0.00345 in the m_probability of full_name, level `All other comparisons`\n",
      "Iteration 25: Largest change in params was 0.00332 in the m_probability of full_name, level `All other comparisons`\n",
      "\n",
      "EM converged after 25 iterations\n",
      "m probability not trained for PER_SSN - Levenshtein <= 2 (comparison vector value: 1). This usually means the comparison level was never observed in the training data.\n",
      "\n",
      "Your model is not yet fully trained. Missing estimates for:\n",
      "    - PER_SSN (some m values are not trained).\n"
     ]
    }
   ],
   "source": [
    "training_blocking_rule = block_on([\"firstname_dm\", \"lastname_dm\"])\n",
    "training_session_fname_sname = linker.estimate_parameters_using_expectation_maximisation(training_blocking_rule)"
   ]
  },
  {
   "cell_type": "code",
   "execution_count": 16,
   "metadata": {},
   "outputs": [
    {
     "name": "stderr",
     "output_type": "stream",
     "text": [
      "\n",
      "----- Starting EM training session -----\n",
      "\n",
      "Estimating the m probabilities of the model by blocking on:\n",
      "l.\"PER_FirstName\" = r.\"PER_FirstName\"\n",
      "\n",
      "Parameter estimates will be made for the following comparison(s):\n",
      "    - firstname_dm\n",
      "    - lastname_dm\n",
      "    - full_name\n",
      "    - PER_Email\n",
      "    - PER_SSN\n",
      "    - PER_DOB\n",
      "\n",
      "Parameter estimates cannot be made for the following comparison(s) since they are used in the blocking rules: \n",
      "\n",
      "WARNING:\n",
      "Level All other comparisons on comparison firstname_dm not observed in dataset, unable to train m value\n",
      "\n",
      "WARNING:\n",
      "Level Levenshtein <= 2 on comparison PER_SSN not observed in dataset, unable to train m value\n",
      "\n",
      "Iteration 1: Largest change in params was -0.762 in the m_probability of lastname_dm, level `Exact match`\n",
      "Iteration 2: Largest change in params was 0.453 in probability_two_random_records_match\n",
      "Iteration 3: Largest change in params was 0.152 in probability_two_random_records_match\n",
      "Iteration 4: Largest change in params was 0.00414 in probability_two_random_records_match\n",
      "Iteration 5: Largest change in params was 1.28e-05 in probability_two_random_records_match\n",
      "\n",
      "EM converged after 5 iterations\n",
      "m probability not trained for firstname_dm - All other comparisons (comparison vector value: 0). This usually means the comparison level was never observed in the training data.\n",
      "m probability not trained for PER_SSN - Levenshtein <= 2 (comparison vector value: 1). This usually means the comparison level was never observed in the training data.\n",
      "\n",
      "Your model is not yet fully trained. Missing estimates for:\n",
      "    - PER_SSN (some m values are not trained).\n"
     ]
    }
   ],
   "source": [
    "training_blocking_rule = block_on([\"PER_FirstName\"])\n",
    "training_session_fname_sname = linker.estimate_parameters_using_expectation_maximisation(training_blocking_rule)"
   ]
  },
  {
   "cell_type": "code",
   "execution_count": 17,
   "metadata": {},
   "outputs": [
    {
     "name": "stderr",
     "output_type": "stream",
     "text": [
      "\n",
      "----- Starting EM training session -----\n",
      "\n",
      "Estimating the m probabilities of the model by blocking on:\n",
      "l.\"PER_Zip\" = r.\"PER_Zip\"\n",
      "\n",
      "Parameter estimates will be made for the following comparison(s):\n",
      "    - firstname_dm\n",
      "    - lastname_dm\n",
      "    - full_name\n",
      "    - PER_Email\n",
      "    - PER_SSN\n",
      "    - PER_DOB\n",
      "\n",
      "Parameter estimates cannot be made for the following comparison(s) since they are used in the blocking rules: \n",
      "\n",
      "Iteration 1: Largest change in params was 0.63 in the m_probability of full_name, level `Jaro_winkler_similarity >= 0.8`\n",
      "Iteration 2: Largest change in params was 0.0697 in the m_probability of firstname_dm, level `All other comparisons`\n",
      "Iteration 3: Largest change in params was -0.0427 in the m_probability of firstname_dm, level `Exact match`\n",
      "Iteration 4: Largest change in params was 0.0136 in the m_probability of firstname_dm, level `All other comparisons`\n",
      "Iteration 5: Largest change in params was -0.00424 in the m_probability of firstname_dm, level `Exact match`\n",
      "Iteration 6: Largest change in params was 0.00337 in the m_probability of full_name, level `All other comparisons`\n",
      "Iteration 7: Largest change in params was 0.00296 in the m_probability of full_name, level `All other comparisons`\n",
      "Iteration 8: Largest change in params was 0.00256 in the m_probability of full_name, level `All other comparisons`\n",
      "Iteration 9: Largest change in params was 0.00219 in the m_probability of full_name, level `All other comparisons`\n",
      "Iteration 10: Largest change in params was 0.00187 in the m_probability of full_name, level `All other comparisons`\n",
      "Iteration 11: Largest change in params was 0.00159 in the m_probability of full_name, level `All other comparisons`\n",
      "Iteration 12: Largest change in params was 0.00134 in the m_probability of full_name, level `All other comparisons`\n",
      "Iteration 13: Largest change in params was 0.00114 in the m_probability of full_name, level `All other comparisons`\n",
      "Iteration 14: Largest change in params was 0.000959 in the m_probability of full_name, level `All other comparisons`\n",
      "Iteration 15: Largest change in params was 0.000809 in the m_probability of full_name, level `All other comparisons`\n",
      "Iteration 16: Largest change in params was 0.000682 in the m_probability of full_name, level `All other comparisons`\n",
      "Iteration 17: Largest change in params was 0.000574 in the m_probability of full_name, level `All other comparisons`\n",
      "Iteration 18: Largest change in params was 0.000483 in the m_probability of full_name, level `All other comparisons`\n",
      "Iteration 19: Largest change in params was 0.000406 in the m_probability of full_name, level `All other comparisons`\n",
      "Iteration 20: Largest change in params was 0.000341 in the m_probability of full_name, level `All other comparisons`\n",
      "Iteration 21: Largest change in params was 0.000287 in the m_probability of full_name, level `All other comparisons`\n",
      "Iteration 22: Largest change in params was 0.000241 in the m_probability of full_name, level `All other comparisons`\n",
      "Iteration 23: Largest change in params was 0.000202 in the m_probability of full_name, level `All other comparisons`\n",
      "Iteration 24: Largest change in params was 0.00017 in the m_probability of full_name, level `All other comparisons`\n",
      "Iteration 25: Largest change in params was 0.000143 in the m_probability of full_name, level `All other comparisons`\n",
      "\n",
      "EM converged after 25 iterations\n",
      "\n",
      "Your model is fully trained. All comparisons have at least one estimate for their m and u values\n"
     ]
    }
   ],
   "source": [
    "training_blocking_rule = block_on([\"PER_Zip\"])\n",
    "training_session_fname_sname = linker.estimate_parameters_using_expectation_maximisation(training_blocking_rule)"
   ]
  },
  {
   "cell_type": "code",
   "execution_count": 18,
   "metadata": {},
   "outputs": [
    {
     "data": {
      "text/html": [
       "\n",
       "<style>\n",
       "  #altair-viz-b481d0906ae84f3cbe6ab9f6e6059047.vega-embed {\n",
       "    width: 100%;\n",
       "    display: flex;\n",
       "  }\n",
       "\n",
       "  #altair-viz-b481d0906ae84f3cbe6ab9f6e6059047.vega-embed details,\n",
       "  #altair-viz-b481d0906ae84f3cbe6ab9f6e6059047.vega-embed details summary {\n",
       "    position: relative;\n",
       "  }\n",
       "</style>\n",
       "<div id=\"altair-viz-b481d0906ae84f3cbe6ab9f6e6059047\"></div>\n",
       "<script type=\"text/javascript\">\n",
       "  var VEGA_DEBUG = (typeof VEGA_DEBUG == \"undefined\") ? {} : VEGA_DEBUG;\n",
       "  (function(spec, embedOpt){\n",
       "    let outputDiv = document.currentScript.previousElementSibling;\n",
       "    if (outputDiv.id !== \"altair-viz-b481d0906ae84f3cbe6ab9f6e6059047\") {\n",
       "      outputDiv = document.getElementById(\"altair-viz-b481d0906ae84f3cbe6ab9f6e6059047\");\n",
       "    }\n",
       "    const paths = {\n",
       "      \"vega\": \"https://cdn.jsdelivr.net/npm/vega@5?noext\",\n",
       "      \"vega-lib\": \"https://cdn.jsdelivr.net/npm/vega-lib?noext\",\n",
       "      \"vega-lite\": \"https://cdn.jsdelivr.net/npm/vega-lite@5.16.3?noext\",\n",
       "      \"vega-embed\": \"https://cdn.jsdelivr.net/npm/vega-embed@6?noext\",\n",
       "    };\n",
       "\n",
       "    function maybeLoadScript(lib, version) {\n",
       "      var key = `${lib.replace(\"-\", \"\")}_version`;\n",
       "      return (VEGA_DEBUG[key] == version) ?\n",
       "        Promise.resolve(paths[lib]) :\n",
       "        new Promise(function(resolve, reject) {\n",
       "          var s = document.createElement('script');\n",
       "          document.getElementsByTagName(\"head\")[0].appendChild(s);\n",
       "          s.async = true;\n",
       "          s.onload = () => {\n",
       "            VEGA_DEBUG[key] = version;\n",
       "            return resolve(paths[lib]);\n",
       "          };\n",
       "          s.onerror = () => reject(`Error loading script: ${paths[lib]}`);\n",
       "          s.src = paths[lib];\n",
       "        });\n",
       "    }\n",
       "\n",
       "    function showError(err) {\n",
       "      outputDiv.innerHTML = `<div class=\"error\" style=\"color:red;\">${err}</div>`;\n",
       "      throw err;\n",
       "    }\n",
       "\n",
       "    function displayChart(vegaEmbed) {\n",
       "      vegaEmbed(outputDiv, spec, embedOpt)\n",
       "        .catch(err => showError(`Javascript Error: ${err.message}<br>This usually means there's a typo in your chart specification. See the javascript console for the full traceback.`));\n",
       "    }\n",
       "\n",
       "    if(typeof define === \"function\" && define.amd) {\n",
       "      requirejs.config({paths});\n",
       "      require([\"vega-embed\"], displayChart, err => showError(`Error loading script: ${err.message}`));\n",
       "    } else {\n",
       "      maybeLoadScript(\"vega\", \"5\")\n",
       "        .then(() => maybeLoadScript(\"vega-lite\", \"5.16.3\"))\n",
       "        .then(() => maybeLoadScript(\"vega-embed\", \"6\"))\n",
       "        .catch(showError)\n",
       "        .then(() => displayChart(vegaEmbed));\n",
       "    }\n",
       "  })({\"config\": {\"view\": {\"continuousWidth\": 300, \"continuousHeight\": 300, \"discreteHeight\": 60, \"discreteWidth\": 400}, \"header\": {\"title\": null}, \"mark\": {\"tooltip\": null}, \"title\": {\"anchor\": \"middle\"}}, \"vconcat\": [{\"mark\": {\"type\": \"bar\", \"clip\": true, \"height\": 15}, \"encoding\": {\"color\": {\"field\": \"log2_bayes_factor\", \"scale\": {\"domain\": [-10, 0, 10], \"interpolate\": \"lab\", \"range\": [\"red\", \"#bbbbbb\", \"green\"]}, \"title\": \"Match weight\", \"type\": \"quantitative\"}, \"tooltip\": [{\"field\": \"comparison_name\", \"title\": \"Comparison name\", \"type\": \"nominal\"}, {\"field\": \"probability_two_random_records_match\", \"format\": \".4f\", \"title\": \"Probability two random records match\", \"type\": \"nominal\"}, {\"field\": \"log2_bayes_factor\", \"format\": \",.4f\", \"title\": \"Equivalent match weight\", \"type\": \"quantitative\"}, {\"field\": \"bayes_factor_description\", \"title\": \"Match weight description\", \"type\": \"nominal\"}], \"x\": {\"axis\": {\"domain\": false, \"gridColor\": {\"condition\": {\"test\": \"abs(datum.value / 10)  <= 1 & datum.value % 10 === 0\", \"value\": \"#aaa\"}, \"value\": \"#ddd\"}, \"gridDash\": {\"condition\": {\"test\": \"abs(datum.value / 10) == 1\", \"value\": [3]}, \"value\": null}, \"gridWidth\": {\"condition\": {\"test\": \"abs(datum.value / 10)  <= 1 & datum.value % 10 === 0\", \"value\": 2}, \"value\": 1}, \"labels\": false, \"ticks\": false, \"title\": \"\"}, \"field\": \"log2_bayes_factor\", \"scale\": {\"domain\": [-104, 104]}, \"type\": \"quantitative\"}, \"y\": {\"axis\": {\"title\": \"Prior (starting) match weight\", \"titleAlign\": \"right\", \"titleAngle\": 0, \"titleFontWeight\": \"normal\"}, \"field\": \"label_for_charts\", \"sort\": {\"field\": \"comparison_vector_value\", \"order\": \"descending\"}, \"type\": \"nominal\"}}, \"height\": 20, \"transform\": [{\"filter\": \"(datum.comparison_name == 'probability_two_random_records_match')\"}]}, {\"mark\": {\"type\": \"bar\", \"clip\": true}, \"encoding\": {\"color\": {\"field\": \"log2_bayes_factor\", \"scale\": {\"domain\": [-10, 0, 10], \"interpolate\": \"lab\", \"range\": [\"red\", \"#bbbbbb\", \"green\"]}, \"title\": \"Match weight\", \"type\": \"quantitative\"}, \"row\": {\"field\": \"comparison_name\", \"header\": {\"labelAlign\": \"left\", \"labelAnchor\": \"middle\", \"labelAngle\": 0}, \"sort\": {\"field\": \"comparison_sort_order\"}, \"type\": \"nominal\"}, \"tooltip\": [{\"field\": \"comparison_name\", \"title\": \"Comparison name\", \"type\": \"nominal\"}, {\"field\": \"label_for_charts\", \"title\": \"Label\", \"type\": \"ordinal\"}, {\"field\": \"sql_condition\", \"title\": \"SQL condition\", \"type\": \"nominal\"}, {\"field\": \"m_probability\", \"format\": \".4f\", \"title\": \"M probability\", \"type\": \"quantitative\"}, {\"field\": \"u_probability\", \"format\": \".4f\", \"title\": \"U probability\", \"type\": \"quantitative\"}, {\"field\": \"bayes_factor\", \"format\": \",.4f\", \"title\": \"Bayes factor = m/u\", \"type\": \"quantitative\"}, {\"field\": \"log2_bayes_factor\", \"format\": \",.4f\", \"title\": \"Match weight = log2(m/u)\", \"type\": \"quantitative\"}, {\"field\": \"bayes_factor_description\", \"title\": \"Match weight description\", \"type\": \"nominal\"}], \"x\": {\"axis\": {\"gridColor\": {\"condition\": {\"test\": \"abs(datum.value / 10)  <= 1 & datum.value % 10 === 0\", \"value\": \"#aaa\"}, \"value\": \"#ddd\"}, \"gridDash\": {\"condition\": {\"test\": \"abs(datum.value / 10) == 1\", \"value\": [3]}, \"value\": null}, \"gridWidth\": {\"condition\": {\"test\": \"abs(datum.value / 10)  <= 1 & datum.value % 10 === 0\", \"value\": 2}, \"value\": 1}, \"title\": \"Comparison level match weight = log2(m/u)\"}, \"field\": \"log2_bayes_factor\", \"scale\": {\"domain\": [-104, 104]}, \"type\": \"quantitative\"}, \"y\": {\"axis\": {\"title\": null}, \"field\": \"label_for_charts\", \"sort\": {\"field\": \"comparison_vector_value\", \"order\": \"descending\"}, \"type\": \"nominal\"}}, \"height\": {\"step\": 12}, \"resolve\": {\"axis\": {\"y\": \"independent\"}, \"scale\": {\"y\": \"independent\"}}, \"transform\": [{\"filter\": \"(datum.comparison_name != 'probability_two_random_records_match')\"}]}], \"data\": {\"name\": \"data-22ea6015aa177fad13483279b1e41ef6\"}, \"params\": [{\"name\": \"mouse_zoom\", \"select\": {\"type\": \"interval\", \"encodings\": [\"x\"]}, \"bind\": \"scales\", \"views\": []}], \"resolve\": {\"axis\": {\"y\": \"independent\"}, \"scale\": {\"y\": \"independent\"}}, \"title\": {\"text\": \"Model parameters (components of final match weight)\", \"subtitle\": \"Use mousewheel to zoom\"}, \"$schema\": \"https://vega.github.io/schema/vega-lite/v5.9.3.json\", \"datasets\": {\"data-22ea6015aa177fad13483279b1e41ef6\": [{\"comparison_name\": \"probability_two_random_records_match\", \"sql_condition\": null, \"label_for_charts\": \"\", \"m_probability\": null, \"u_probability\": null, \"m_probability_description\": null, \"u_probability_description\": null, \"has_tf_adjustments\": false, \"tf_adjustment_column\": null, \"tf_adjustment_weight\": null, \"is_null_level\": false, \"bayes_factor\": 6.509588811533446e-05, \"log2_bayes_factor\": -13.907074058280463, \"comparison_vector_value\": 0, \"max_comparison_vector_value\": 0, \"bayes_factor_description\": \"The probability that two random records drawn at random match is 0.000 or one in  15,363.0 records.This is equivalent to a starting match weight of -13.907.\", \"probability_two_random_records_match\": 6.509165091650916e-05, \"comparison_sort_order\": -1}, {\"comparison_name\": \"firstname_dm\", \"sql_condition\": \"\\\"firstname_dm_l\\\" = \\\"firstname_dm_r\\\"\", \"label_for_charts\": \"Exact match\", \"m_probability\": 0.8631045778418217, \"u_probability\": 0.0030013271345491793, \"m_probability_description\": \"Amongst matching record comparisons, 86.31% of records are in the exact match comparison level\", \"u_probability_description\": \"Amongst non-matching record comparisons, 0.30% of records are in the exact match comparison level\", \"has_tf_adjustments\": false, \"tf_adjustment_column\": null, \"tf_adjustment_weight\": 1.0, \"is_null_level\": false, \"bayes_factor\": 287.57430934681037, \"log2_bayes_factor\": 8.167790987132381, \"comparison_vector_value\": 1, \"max_comparison_vector_value\": 1, \"bayes_factor_description\": \"If comparison level is `exact match` then comparison is 287.57 times more likely to be a match\", \"probability_two_random_records_match\": 6.509165091650916e-05, \"comparison_sort_order\": 0}, {\"comparison_name\": \"firstname_dm\", \"sql_condition\": \"ELSE\", \"label_for_charts\": \"All other comparisons\", \"m_probability\": 0.17867639557493661, \"u_probability\": 0.9969986728654509, \"m_probability_description\": \"Amongst matching record comparisons, 17.87% of records are in the all other comparisons comparison level\", \"u_probability_description\": \"Amongst non-matching record comparisons, 99.70% of records are in the all other comparisons comparison level\", \"has_tf_adjustments\": false, \"tf_adjustment_column\": null, \"tf_adjustment_weight\": 1.0, \"is_null_level\": false, \"bayes_factor\": 0.1792142762451297, \"log2_bayes_factor\": -2.4802425275382856, \"comparison_vector_value\": 0, \"max_comparison_vector_value\": 1, \"bayes_factor_description\": \"If comparison level is `all other comparisons` then comparison is  5.58 times less likely to be a match\", \"probability_two_random_records_match\": 6.509165091650916e-05, \"comparison_sort_order\": 0}, {\"comparison_name\": \"lastname_dm\", \"sql_condition\": \"\\\"lastname_dm_l\\\" = \\\"lastname_dm_r\\\"\", \"label_for_charts\": \"Exact match\", \"m_probability\": 0.1846128030208132, \"u_probability\": 0.001841715744776583, \"m_probability_description\": \"Amongst matching record comparisons, 18.46% of records are in the exact match comparison level\", \"u_probability_description\": \"Amongst non-matching record comparisons, 0.18% of records are in the exact match comparison level\", \"has_tf_adjustments\": false, \"tf_adjustment_column\": null, \"tf_adjustment_weight\": 1.0, \"is_null_level\": false, \"bayes_factor\": 100.23957472503903, \"log2_bayes_factor\": 6.647308388803134, \"comparison_vector_value\": 1, \"max_comparison_vector_value\": 1, \"bayes_factor_description\": \"If comparison level is `exact match` then comparison is 100.24 times more likely to be a match\", \"probability_two_random_records_match\": 6.509165091650916e-05, \"comparison_sort_order\": 1}, {\"comparison_name\": \"lastname_dm\", \"sql_condition\": \"ELSE\", \"label_for_charts\": \"All other comparisons\", \"m_probability\": 0.8153871969791868, \"u_probability\": 0.9981582842552235, \"m_probability_description\": \"Amongst matching record comparisons, 81.54% of records are in the all other comparisons comparison level\", \"u_probability_description\": \"Amongst non-matching record comparisons, 99.82% of records are in the all other comparisons comparison level\", \"has_tf_adjustments\": false, \"tf_adjustment_column\": null, \"tf_adjustment_weight\": 1.0, \"is_null_level\": false, \"bayes_factor\": 0.8168916792466323, \"log2_bayes_factor\": -0.29178330681541526, \"comparison_vector_value\": 0, \"max_comparison_vector_value\": 1, \"bayes_factor_description\": \"If comparison level is `all other comparisons` then comparison is  1.22 times less likely to be a match\", \"probability_two_random_records_match\": 6.509165091650916e-05, \"comparison_sort_order\": 1}, {\"comparison_name\": \"full_name\", \"sql_condition\": \"\\\"full_name_l\\\" = \\\"full_name_r\\\"\", \"label_for_charts\": \"Exact match full_name\", \"m_probability\": 0.18151793301687563, \"u_probability\": 1.6993132909914956e-06, \"m_probability_description\": \"Amongst matching record comparisons, 18.15% of records are in the exact match full_name comparison level\", \"u_probability_description\": \"Amongst non-matching record comparisons, 0.00% of records are in the exact match full_name comparison level\", \"has_tf_adjustments\": false, \"tf_adjustment_column\": null, \"tf_adjustment_weight\": 1.0, \"is_null_level\": false, \"bayes_factor\": 106818.40363348518, \"log2_bayes_factor\": 16.704800703329546, \"comparison_vector_value\": 4, \"max_comparison_vector_value\": 4, \"bayes_factor_description\": \"If comparison level is `exact match full_name` then comparison is 106,818.40 times more likely to be a match\", \"probability_two_random_records_match\": 6.509165091650916e-05, \"comparison_sort_order\": 2}, {\"comparison_name\": \"full_name\", \"sql_condition\": \"damerau_levenshtein(\\\"full_name_l\\\", \\\"full_name_r\\\") <= 1\", \"label_for_charts\": \"Damerau_levenshtein <= 1\", \"m_probability\": 0.014307642589863463, \"u_probability\": 8.059600180131093e-07, \"m_probability_description\": \"Amongst matching record comparisons, 1.43% of records are in the damerau_levenshtein <= 1 comparison level\", \"u_probability_description\": \"Amongst non-matching record comparisons, 0.00% of records are in the damerau_levenshtein <= 1 comparison level\", \"has_tf_adjustments\": false, \"tf_adjustment_column\": null, \"tf_adjustment_weight\": 1.0, \"is_null_level\": false, \"bayes_factor\": 17752.29821590324, \"log2_bayes_factor\": 14.115718187831925, \"comparison_vector_value\": 3, \"max_comparison_vector_value\": 4, \"bayes_factor_description\": \"If comparison level is `damerau_levenshtein <= 1` then comparison is 17,752.30 times more likely to be a match\", \"probability_two_random_records_match\": 6.509165091650916e-05, \"comparison_sort_order\": 2}, {\"comparison_name\": \"full_name\", \"sql_condition\": \"jaro_winkler_similarity(\\\"full_name_l\\\", \\\"full_name_r\\\") >= 0.9\", \"label_for_charts\": \"Jaro_winkler_similarity >= 0.9\", \"m_probability\": 0.06640078094407899, \"u_probability\": 5.815535599856038e-05, \"m_probability_description\": \"Amongst matching record comparisons, 6.64% of records are in the jaro_winkler_similarity >= 0.9 comparison level\", \"u_probability_description\": \"Amongst non-matching record comparisons, 0.01% of records are in the jaro_winkler_similarity >= 0.9 comparison level\", \"has_tf_adjustments\": false, \"tf_adjustment_column\": null, \"tf_adjustment_weight\": 1.0, \"is_null_level\": false, \"bayes_factor\": 1141.7827266971374, \"log2_bayes_factor\": 10.157072426659507, \"comparison_vector_value\": 2, \"max_comparison_vector_value\": 4, \"bayes_factor_description\": \"If comparison level is `jaro_winkler_similarity >= 0.9` then comparison is 1,141.78 times more likely to be a match\", \"probability_two_random_records_match\": 6.509165091650916e-05, \"comparison_sort_order\": 2}, {\"comparison_name\": \"full_name\", \"sql_condition\": \"jaro_winkler_similarity(\\\"full_name_l\\\", \\\"full_name_r\\\") >= 0.8\", \"label_for_charts\": \"Jaro_winkler_similarity >= 0.8\", \"m_probability\": 0.4853989050165451, \"u_probability\": 0.0010907746359449467, \"m_probability_description\": \"Amongst matching record comparisons, 48.54% of records are in the jaro_winkler_similarity >= 0.8 comparison level\", \"u_probability_description\": \"Amongst non-matching record comparisons, 0.11% of records are in the jaro_winkler_similarity >= 0.8 comparison level\", \"has_tf_adjustments\": false, \"tf_adjustment_column\": null, \"tf_adjustment_weight\": 1.0, \"is_null_level\": false, \"bayes_factor\": 445.0038431596277, \"log2_bayes_factor\": 8.797673985367005, \"comparison_vector_value\": 1, \"max_comparison_vector_value\": 4, \"bayes_factor_description\": \"If comparison level is `jaro_winkler_similarity >= 0.8` then comparison is 445.00 times more likely to be a match\", \"probability_two_random_records_match\": 6.509165091650916e-05, \"comparison_sort_order\": 2}, {\"comparison_name\": \"full_name\", \"sql_condition\": \"ELSE\", \"label_for_charts\": \"All other comparisons\", \"m_probability\": 0.19660567988202543, \"u_probability\": 0.9988485647347475, \"m_probability_description\": \"Amongst matching record comparisons, 19.66% of records are in the all other comparisons comparison level\", \"u_probability_description\": \"Amongst non-matching record comparisons, 99.88% of records are in the all other comparisons comparison level\", \"has_tf_adjustments\": false, \"tf_adjustment_column\": null, \"tf_adjustment_weight\": 1.0, \"is_null_level\": false, \"bayes_factor\": 0.19683231955610378, \"log2_bayes_factor\": -2.344960966511817, \"comparison_vector_value\": 0, \"max_comparison_vector_value\": 4, \"bayes_factor_description\": \"If comparison level is `all other comparisons` then comparison is  5.08 times less likely to be a match\", \"probability_two_random_records_match\": 6.509165091650916e-05, \"comparison_sort_order\": 2}, {\"comparison_name\": \"PER_Email\", \"sql_condition\": \"\\\"PER_Email_l\\\" = \\\"PER_Email_r\\\"\", \"label_for_charts\": \"3. Exact match PER_Email\", \"m_probability\": 0.5938040765189627, \"u_probability\": 0.6144303975647345, \"m_probability_description\": \"Amongst matching record comparisons, 59.38% of records are in the exact match per_email comparison level\", \"u_probability_description\": \"Amongst non-matching record comparisons, 61.44% of records are in the exact match per_email comparison level\", \"has_tf_adjustments\": false, \"tf_adjustment_column\": null, \"tf_adjustment_weight\": 1.0, \"is_null_level\": false, \"bayes_factor\": 0.9664301747968147, \"log2_bayes_factor\": -0.0492625943322941, \"comparison_vector_value\": 3, \"max_comparison_vector_value\": 3, \"bayes_factor_description\": \"If comparison level is `exact match per_email` then comparison is  1.03 times less likely to be a match\", \"probability_two_random_records_match\": 6.509165091650916e-05, \"comparison_sort_order\": 3}, {\"comparison_name\": \"PER_Email\", \"sql_condition\": \"\\n        regexp_extract(\\\"PER_Email_l\\\", '^[^@]+')\\n     = \\n        regexp_extract(\\\"PER_Email_r\\\", '^[^@]+')\\n    \", \"label_for_charts\": \"2. Exact match PER_Email\", \"m_probability\": 0.00017400498757003848, \"u_probability\": 3.884144665123418e-07, \"m_probability_description\": \"Amongst matching record comparisons, 0.02% of records are in the exact match per_email comparison level\", \"u_probability_description\": \"Amongst non-matching record comparisons, 0.00% of records are in the exact match per_email comparison level\", \"has_tf_adjustments\": false, \"tf_adjustment_column\": null, \"tf_adjustment_weight\": 1.0, \"is_null_level\": false, \"bayes_factor\": 447.98791644520145, \"log2_bayes_factor\": 8.80731600884401, \"comparison_vector_value\": 2, \"max_comparison_vector_value\": 3, \"bayes_factor_description\": \"If comparison level is `exact match per_email` then comparison is 447.99 times more likely to be a match\", \"probability_two_random_records_match\": 6.509165091650916e-05, \"comparison_sort_order\": 3}, {\"comparison_name\": \"PER_Email\", \"sql_condition\": \"jaro_winkler_similarity(\\\"PER_Email_l\\\", \\\"PER_Email_r\\\") >= 0.88\", \"label_for_charts\": \"1. Jaro_winkler_similarity PER_Email >= 0.88\", \"m_probability\": 0.0016048089284697816, \"u_probability\": 4.136614068356441e-06, \"m_probability_description\": \"Amongst matching record comparisons, 0.16% of records are in the jaro_winkler_similarity per_email >= 0.88 comparison level\", \"u_probability_description\": \"Amongst non-matching record comparisons, 0.00% of records are in the jaro_winkler_similarity per_email >= 0.88 comparison level\", \"has_tf_adjustments\": false, \"tf_adjustment_column\": null, \"tf_adjustment_weight\": 1.0, \"is_null_level\": false, \"bayes_factor\": 387.9522967216045, \"log2_bayes_factor\": 8.599735456841268, \"comparison_vector_value\": 1, \"max_comparison_vector_value\": 3, \"bayes_factor_description\": \"If comparison level is `jaro_winkler_similarity per_email >= 0.88` then comparison is 387.95 times more likely to be a match\", \"probability_two_random_records_match\": 6.509165091650916e-05, \"comparison_sort_order\": 3}, {\"comparison_name\": \"PER_Email\", \"sql_condition\": \"ELSE\", \"label_for_charts\": \"0. All other comparisons\", \"m_probability\": 0.40515818074286813, \"u_probability\": 0.3855650774067306, \"m_probability_description\": \"Amongst matching record comparisons, 40.52% of records are in the all other comparisons comparison level\", \"u_probability_description\": \"Amongst non-matching record comparisons, 38.56% of records are in the all other comparisons comparison level\", \"has_tf_adjustments\": false, \"tf_adjustment_column\": null, \"tf_adjustment_weight\": 1.0, \"is_null_level\": false, \"bayes_factor\": 1.050816592280397, \"log2_bayes_factor\": 0.07151088576276889, \"comparison_vector_value\": 0, \"max_comparison_vector_value\": 3, \"bayes_factor_description\": \"If comparison level is `all other comparisons` then comparison is 1.05 times more likely to be a match\", \"probability_two_random_records_match\": 6.509165091650916e-05, \"comparison_sort_order\": 3}, {\"comparison_name\": \"PER_SSN\", \"sql_condition\": \"\\\"PER_SSN_l\\\" = \\\"PER_SSN_r\\\"\", \"label_for_charts\": \"Exact match\", \"m_probability\": 0.9850694830667521, \"u_probability\": 0.9785161161318859, \"m_probability_description\": \"Amongst matching record comparisons, 98.51% of records are in the exact match comparison level\", \"u_probability_description\": \"Amongst non-matching record comparisons, 97.85% of records are in the exact match comparison level\", \"has_tf_adjustments\": false, \"tf_adjustment_column\": null, \"tf_adjustment_weight\": 1.0, \"is_null_level\": false, \"bayes_factor\": 1.0066972498733817, \"log2_bayes_factor\": 0.009629878203811539, \"comparison_vector_value\": 2, \"max_comparison_vector_value\": 2, \"bayes_factor_description\": \"If comparison level is `exact match` then comparison is 1.01 times more likely to be a match\", \"probability_two_random_records_match\": 6.509165091650916e-05, \"comparison_sort_order\": 4}, {\"comparison_name\": \"PER_SSN\", \"sql_condition\": \"levenshtein(\\\"PER_SSN_l\\\", \\\"PER_SSN_r\\\") <= 2\", \"label_for_charts\": \"Levenshtein <= 2\", \"m_probability\": 4.945570831519168e-40, \"u_probability\": 9.710361662808545e-09, \"m_probability_description\": \"Amongst matching record comparisons, 0.00% of records are in the levenshtein <= 2 comparison level\", \"u_probability_description\": \"Amongst non-matching record comparisons, 0.00% of records are in the levenshtein <= 2 comparison level\", \"has_tf_adjustments\": false, \"tf_adjustment_column\": null, \"tf_adjustment_weight\": 1.0, \"is_null_level\": false, \"bayes_factor\": 5.093086131344722e-32, \"log2_bayes_factor\": -103.9531589209247, \"comparison_vector_value\": 1, \"max_comparison_vector_value\": 2, \"bayes_factor_description\": \"If comparison level is `levenshtein <= 2` then comparison is  19,634,460,800,606,390,966,730,211,983,360.00 times less likely to be a match\", \"probability_two_random_records_match\": 6.509165091650916e-05, \"comparison_sort_order\": 4}, {\"comparison_name\": \"PER_SSN\", \"sql_condition\": \"ELSE\", \"label_for_charts\": \"All other comparisons\", \"m_probability\": 0.014930516933247845, \"u_probability\": 0.02148387415775236, \"m_probability_description\": \"Amongst matching record comparisons, 1.49% of records are in the all other comparisons comparison level\", \"u_probability_description\": \"Amongst non-matching record comparisons, 2.15% of records are in the all other comparisons comparison level\", \"has_tf_adjustments\": false, \"tf_adjustment_column\": null, \"tf_adjustment_weight\": 1.0, \"is_null_level\": false, \"bayes_factor\": 0.6949638982064245, \"log2_bayes_factor\": -0.5249900598301449, \"comparison_vector_value\": 0, \"max_comparison_vector_value\": 2, \"bayes_factor_description\": \"If comparison level is `all other comparisons` then comparison is  1.44 times less likely to be a match\", \"probability_two_random_records_match\": 6.509165091650916e-05, \"comparison_sort_order\": 4}, {\"comparison_name\": \"PER_DOB\", \"sql_condition\": \"\\\"PER_DOB_l\\\" = \\\"PER_DOB_r\\\"\", \"label_for_charts\": \"Exact match\", \"m_probability\": 0.024254582180447862, \"u_probability\": 4.112834337898888e-05, \"m_probability_description\": \"Amongst matching record comparisons, 2.43% of records are in the exact match comparison level\", \"u_probability_description\": \"Amongst non-matching record comparisons, 0.00% of records are in the exact match comparison level\", \"has_tf_adjustments\": false, \"tf_adjustment_column\": null, \"tf_adjustment_weight\": 1.0, \"is_null_level\": false, \"bayes_factor\": 589.7291305158362, \"log2_bayes_factor\": 9.203908649684493, \"comparison_vector_value\": 5, \"max_comparison_vector_value\": 5, \"bayes_factor_description\": \"If comparison level is `exact match` then comparison is 589.73 times more likely to be a match\", \"probability_two_random_records_match\": 6.509165091650916e-05, \"comparison_sort_order\": 5}, {\"comparison_name\": \"PER_DOB\", \"sql_condition\": \"damerau_levenshtein(\\\"PER_DOB_l\\\", \\\"PER_DOB_r\\\") <= 1\", \"label_for_charts\": \"Damerau_levenshtein <= 1\", \"m_probability\": 0.002117027193476756, \"u_probability\": 0.0011610592750575285, \"m_probability_description\": \"Amongst matching record comparisons, 0.21% of records are in the damerau_levenshtein <= 1 comparison level\", \"u_probability_description\": \"Amongst non-matching record comparisons, 0.12% of records are in the damerau_levenshtein <= 1 comparison level\", \"has_tf_adjustments\": false, \"tf_adjustment_column\": null, \"tf_adjustment_weight\": 1.0, \"is_null_level\": false, \"bayes_factor\": 1.8233584098209463, \"log2_bayes_factor\": 0.8665981736909425, \"comparison_vector_value\": 4, \"max_comparison_vector_value\": 5, \"bayes_factor_description\": \"If comparison level is `damerau_levenshtein <= 1` then comparison is 1.82 times more likely to be a match\", \"probability_two_random_records_match\": 6.509165091650916e-05, \"comparison_sort_order\": 5}, {\"comparison_name\": \"PER_DOB\", \"sql_condition\": \"\\n            abs(date_diff('month', \\\"PER_DOB_l\\\",\\n              \\\"PER_DOB_r\\\")) <= 1\\n        \", \"label_for_charts\": \"Within 1 month\", \"m_probability\": 0.004343057180941749, \"u_probability\": 0.0030694670490026615, \"m_probability_description\": \"Amongst matching record comparisons, 0.43% of records are in the within 1 month comparison level\", \"u_probability_description\": \"Amongst non-matching record comparisons, 0.31% of records are in the within 1 month comparison level\", \"has_tf_adjustments\": false, \"tf_adjustment_column\": null, \"tf_adjustment_weight\": 1.0, \"is_null_level\": false, \"bayes_factor\": 1.4149222362080434, \"log2_bayes_factor\": 0.5007227650572194, \"comparison_vector_value\": 3, \"max_comparison_vector_value\": 5, \"bayes_factor_description\": \"If comparison level is `within 1 month` then comparison is 1.41 times more likely to be a match\", \"probability_two_random_records_match\": 6.509165091650916e-05, \"comparison_sort_order\": 5}, {\"comparison_name\": \"PER_DOB\", \"sql_condition\": \"\\n            abs(date_diff('year', \\\"PER_DOB_l\\\",\\n              \\\"PER_DOB_r\\\")) <= 1\\n        \", \"label_for_charts\": \"Within 1 year\", \"m_probability\": 0.0566437407206832, \"u_probability\": 0.039118552630134654, \"m_probability_description\": \"Amongst matching record comparisons, 5.66% of records are in the within 1 year comparison level\", \"u_probability_description\": \"Amongst non-matching record comparisons, 3.91% of records are in the within 1 year comparison level\", \"has_tf_adjustments\": false, \"tf_adjustment_column\": null, \"tf_adjustment_weight\": 1.0, \"is_null_level\": false, \"bayes_factor\": 1.448001955906931, \"log2_bayes_factor\": 0.534063551160983, \"comparison_vector_value\": 2, \"max_comparison_vector_value\": 5, \"bayes_factor_description\": \"If comparison level is `within 1 year` then comparison is 1.45 times more likely to be a match\", \"probability_two_random_records_match\": 6.509165091650916e-05, \"comparison_sort_order\": 5}, {\"comparison_name\": \"PER_DOB\", \"sql_condition\": \"\\n            abs(date_diff('year', \\\"PER_DOB_l\\\",\\n              \\\"PER_DOB_r\\\")) <= 10\\n        \", \"label_for_charts\": \"Within 10 years\", \"m_probability\": 0.32230249413472917, \"u_probability\": 0.24291344216002822, \"m_probability_description\": \"Amongst matching record comparisons, 32.23% of records are in the within 10 years comparison level\", \"u_probability_description\": \"Amongst non-matching record comparisons, 24.29% of records are in the within 10 years comparison level\", \"has_tf_adjustments\": false, \"tf_adjustment_column\": null, \"tf_adjustment_weight\": 1.0, \"is_null_level\": false, \"bayes_factor\": 1.326820332661543, \"log2_bayes_factor\": 0.4079730257743085, \"comparison_vector_value\": 1, \"max_comparison_vector_value\": 5, \"bayes_factor_description\": \"If comparison level is `within 10 years` then comparison is 1.33 times more likely to be a match\", \"probability_two_random_records_match\": 6.509165091650916e-05, \"comparison_sort_order\": 5}, {\"comparison_name\": \"PER_DOB\", \"sql_condition\": \"ELSE\", \"label_for_charts\": \"All other comparisons\", \"m_probability\": 0.5808403764726517, \"u_probability\": 0.713696350542398, \"m_probability_description\": \"Amongst matching record comparisons, 58.08% of records are in the all other comparisons comparison level\", \"u_probability_description\": \"Amongst non-matching record comparisons, 71.37% of records are in the all other comparisons comparison level\", \"has_tf_adjustments\": false, \"tf_adjustment_column\": null, \"tf_adjustment_weight\": 1.0, \"is_null_level\": false, \"bayes_factor\": 0.813848040600491, \"log2_bayes_factor\": -0.29716865117952135, \"comparison_vector_value\": 0, \"max_comparison_vector_value\": 5, \"bayes_factor_description\": \"If comparison level is `all other comparisons` then comparison is  1.23 times less likely to be a match\", \"probability_two_random_records_match\": 6.509165091650916e-05, \"comparison_sort_order\": 5}]}}, {\"mode\": \"vega-lite\"});\n",
       "</script>"
      ],
      "text/plain": [
       "alt.VConcatChart(...)"
      ]
     },
     "execution_count": 18,
     "metadata": {},
     "output_type": "execute_result"
    }
   ],
   "source": [
    "linker.match_weights_chart()"
   ]
  },
  {
   "cell_type": "code",
   "execution_count": 19,
   "metadata": {},
   "outputs": [
    {
     "data": {
      "text/html": [
       "\n",
       "<style>\n",
       "  #altair-viz-23d5355dad7644d8ac215ac263aba668.vega-embed {\n",
       "    width: 100%;\n",
       "    display: flex;\n",
       "  }\n",
       "\n",
       "  #altair-viz-23d5355dad7644d8ac215ac263aba668.vega-embed details,\n",
       "  #altair-viz-23d5355dad7644d8ac215ac263aba668.vega-embed details summary {\n",
       "    position: relative;\n",
       "  }\n",
       "</style>\n",
       "<div id=\"altair-viz-23d5355dad7644d8ac215ac263aba668\"></div>\n",
       "<script type=\"text/javascript\">\n",
       "  var VEGA_DEBUG = (typeof VEGA_DEBUG == \"undefined\") ? {} : VEGA_DEBUG;\n",
       "  (function(spec, embedOpt){\n",
       "    let outputDiv = document.currentScript.previousElementSibling;\n",
       "    if (outputDiv.id !== \"altair-viz-23d5355dad7644d8ac215ac263aba668\") {\n",
       "      outputDiv = document.getElementById(\"altair-viz-23d5355dad7644d8ac215ac263aba668\");\n",
       "    }\n",
       "    const paths = {\n",
       "      \"vega\": \"https://cdn.jsdelivr.net/npm/vega@5?noext\",\n",
       "      \"vega-lib\": \"https://cdn.jsdelivr.net/npm/vega-lib?noext\",\n",
       "      \"vega-lite\": \"https://cdn.jsdelivr.net/npm/vega-lite@5.16.3?noext\",\n",
       "      \"vega-embed\": \"https://cdn.jsdelivr.net/npm/vega-embed@6?noext\",\n",
       "    };\n",
       "\n",
       "    function maybeLoadScript(lib, version) {\n",
       "      var key = `${lib.replace(\"-\", \"\")}_version`;\n",
       "      return (VEGA_DEBUG[key] == version) ?\n",
       "        Promise.resolve(paths[lib]) :\n",
       "        new Promise(function(resolve, reject) {\n",
       "          var s = document.createElement('script');\n",
       "          document.getElementsByTagName(\"head\")[0].appendChild(s);\n",
       "          s.async = true;\n",
       "          s.onload = () => {\n",
       "            VEGA_DEBUG[key] = version;\n",
       "            return resolve(paths[lib]);\n",
       "          };\n",
       "          s.onerror = () => reject(`Error loading script: ${paths[lib]}`);\n",
       "          s.src = paths[lib];\n",
       "        });\n",
       "    }\n",
       "\n",
       "    function showError(err) {\n",
       "      outputDiv.innerHTML = `<div class=\"error\" style=\"color:red;\">${err}</div>`;\n",
       "      throw err;\n",
       "    }\n",
       "\n",
       "    function displayChart(vegaEmbed) {\n",
       "      vegaEmbed(outputDiv, spec, embedOpt)\n",
       "        .catch(err => showError(`Javascript Error: ${err.message}<br>This usually means there's a typo in your chart specification. See the javascript console for the full traceback.`));\n",
       "    }\n",
       "\n",
       "    if(typeof define === \"function\" && define.amd) {\n",
       "      requirejs.config({paths});\n",
       "      require([\"vega-embed\"], displayChart, err => showError(`Error loading script: ${err.message}`));\n",
       "    } else {\n",
       "      maybeLoadScript(\"vega\", \"5\")\n",
       "        .then(() => maybeLoadScript(\"vega-lite\", \"5.16.3\"))\n",
       "        .then(() => maybeLoadScript(\"vega-embed\", \"6\"))\n",
       "        .catch(showError)\n",
       "        .then(() => displayChart(vegaEmbed));\n",
       "    }\n",
       "  })({\"config\": {\"view\": {\"continuousWidth\": 300, \"continuousHeight\": 300, \"discreteHeight\": 300, \"discreteWidth\": 400}, \"header\": {\"title\": null}, \"title\": {\"anchor\": \"middle\", \"offset\": 10}}, \"hconcat\": [{\"mark\": \"bar\", \"encoding\": {\"color\": {\"value\": \"green\"}, \"row\": {\"field\": \"comparison_name\", \"header\": {\"labelAlign\": \"left\", \"labelAnchor\": \"middle\", \"labelAngle\": 0}, \"sort\": {\"field\": \"comparison_sort_order\"}, \"type\": \"nominal\"}, \"tooltip\": [{\"field\": \"m_probability_description\", \"title\": \"m probability description\", \"type\": \"nominal\"}, {\"field\": \"comparison_name\", \"title\": \"Comparison column name\", \"type\": \"nominal\"}, {\"field\": \"label_for_charts\", \"title\": \"Label\", \"type\": \"ordinal\"}, {\"field\": \"sql_condition\", \"title\": \"SQL condition\", \"type\": \"nominal\"}, {\"field\": \"m_probability\", \"format\": \".4p\", \"title\": \"m probability\", \"type\": \"quantitative\"}, {\"field\": \"u_probability\", \"format\": \".4p\", \"title\": \"u probability\", \"type\": \"quantitative\"}, {\"field\": \"bayes_factor\", \"format\": \",.4f\", \"title\": \"Bayes factor = m/u\", \"type\": \"quantitative\"}, {\"field\": \"log2_bayes_factor\", \"format\": \",.4f\", \"title\": \"Match weight = log2(m/u)\", \"type\": \"quantitative\"}], \"x\": {\"axis\": {\"title\": \"Proportion of record comparisons\"}, \"field\": \"m_probability\", \"type\": \"quantitative\"}, \"y\": {\"axis\": {\"title\": null}, \"field\": \"label_for_charts\", \"sort\": {\"field\": \"comparison_vector_value\", \"order\": \"descending\"}, \"type\": \"nominal\"}}, \"height\": {\"step\": 12}, \"resolve\": {\"scale\": {\"y\": \"independent\"}}, \"title\": {\"text\": \"Amongst matching record comparisons:\", \"fontSize\": 12, \"fontWeight\": \"bold\"}, \"transform\": [{\"filter\": \"(datum.bayes_factor != 'no-op filter due to vega lite issue 4680')\"}], \"width\": 150}, {\"mark\": \"bar\", \"encoding\": {\"color\": {\"value\": \"red\"}, \"row\": {\"field\": \"comparison_name\", \"header\": {\"labels\": false}, \"sort\": {\"field\": \"comparison_sort_order\"}, \"type\": \"nominal\"}, \"tooltip\": [{\"field\": \"u_probability_description\", \"title\": \"u probability description\", \"type\": \"nominal\"}, {\"field\": \"comparison_name\", \"title\": \"Comparison column name\", \"type\": \"nominal\"}, {\"field\": \"label_for_charts\", \"title\": \"Label\", \"type\": \"ordinal\"}, {\"field\": \"sql_condition\", \"title\": \"SQL condition\", \"type\": \"nominal\"}, {\"field\": \"m_probability\", \"format\": \".4p\", \"title\": \"m probability\", \"type\": \"quantitative\"}, {\"field\": \"u_probability\", \"format\": \".4p\", \"title\": \"u probability\", \"type\": \"quantitative\"}, {\"field\": \"bayes_factor\", \"format\": \",.4f\", \"title\": \"Bayes factor = m/u\", \"type\": \"quantitative\"}, {\"field\": \"log2_bayes_factor\", \"format\": \",.4f\", \"title\": \"Match weight = log2(m/u)\", \"type\": \"quantitative\"}], \"x\": {\"axis\": {\"title\": \"Proportion of record comparisons\"}, \"field\": \"u_probability\", \"type\": \"quantitative\"}, \"y\": {\"axis\": {\"title\": null}, \"field\": \"label_for_charts\", \"sort\": {\"field\": \"comparison_vector_value\", \"order\": \"descending\"}, \"type\": \"nominal\"}}, \"height\": {\"step\": 12}, \"resolve\": {\"scale\": {\"y\": \"independent\"}}, \"title\": {\"text\": \"Amongst non-matching record comparisons:\", \"fontSize\": 12, \"fontWeight\": \"bold\"}, \"transform\": [{\"filter\": \"(datum.bayes_factor != 'no-op filter2 due to vega lite issue 4680')\"}], \"width\": 150}], \"data\": {\"name\": \"data-3d47280e87cff26d4be48a9dbf3dcc70\"}, \"title\": {\"text\": \"Proportion of record comparisons in each comparison level by match status\", \"subtitle\": \"(m and u probabilities)\"}, \"$schema\": \"https://vega.github.io/schema/vega-lite/v5.9.3.json\", \"datasets\": {\"data-3d47280e87cff26d4be48a9dbf3dcc70\": [{\"comparison_name\": \"firstname_dm\", \"sql_condition\": \"\\\"firstname_dm_l\\\" = \\\"firstname_dm_r\\\"\", \"label_for_charts\": \"Exact match\", \"m_probability\": 0.8631045778418217, \"u_probability\": 0.0030013271345491793, \"m_probability_description\": \"Amongst matching record comparisons, 86.31% of records are in the exact match comparison level\", \"u_probability_description\": \"Amongst non-matching record comparisons, 0.30% of records are in the exact match comparison level\", \"has_tf_adjustments\": false, \"tf_adjustment_column\": null, \"tf_adjustment_weight\": 1.0, \"is_null_level\": false, \"bayes_factor\": 287.57430934681037, \"log2_bayes_factor\": 8.167790987132381, \"comparison_vector_value\": 1, \"max_comparison_vector_value\": 1, \"bayes_factor_description\": \"If comparison level is `exact match` then comparison is 287.57 times more likely to be a match\", \"probability_two_random_records_match\": 6.509165091650916e-05, \"comparison_sort_order\": 0}, {\"comparison_name\": \"firstname_dm\", \"sql_condition\": \"ELSE\", \"label_for_charts\": \"All other comparisons\", \"m_probability\": 0.17867639557493661, \"u_probability\": 0.9969986728654509, \"m_probability_description\": \"Amongst matching record comparisons, 17.87% of records are in the all other comparisons comparison level\", \"u_probability_description\": \"Amongst non-matching record comparisons, 99.70% of records are in the all other comparisons comparison level\", \"has_tf_adjustments\": false, \"tf_adjustment_column\": null, \"tf_adjustment_weight\": 1.0, \"is_null_level\": false, \"bayes_factor\": 0.1792142762451297, \"log2_bayes_factor\": -2.4802425275382856, \"comparison_vector_value\": 0, \"max_comparison_vector_value\": 1, \"bayes_factor_description\": \"If comparison level is `all other comparisons` then comparison is  5.58 times less likely to be a match\", \"probability_two_random_records_match\": 6.509165091650916e-05, \"comparison_sort_order\": 0}, {\"comparison_name\": \"lastname_dm\", \"sql_condition\": \"\\\"lastname_dm_l\\\" = \\\"lastname_dm_r\\\"\", \"label_for_charts\": \"Exact match\", \"m_probability\": 0.1846128030208132, \"u_probability\": 0.001841715744776583, \"m_probability_description\": \"Amongst matching record comparisons, 18.46% of records are in the exact match comparison level\", \"u_probability_description\": \"Amongst non-matching record comparisons, 0.18% of records are in the exact match comparison level\", \"has_tf_adjustments\": false, \"tf_adjustment_column\": null, \"tf_adjustment_weight\": 1.0, \"is_null_level\": false, \"bayes_factor\": 100.23957472503903, \"log2_bayes_factor\": 6.647308388803134, \"comparison_vector_value\": 1, \"max_comparison_vector_value\": 1, \"bayes_factor_description\": \"If comparison level is `exact match` then comparison is 100.24 times more likely to be a match\", \"probability_two_random_records_match\": 6.509165091650916e-05, \"comparison_sort_order\": 1}, {\"comparison_name\": \"lastname_dm\", \"sql_condition\": \"ELSE\", \"label_for_charts\": \"All other comparisons\", \"m_probability\": 0.8153871969791868, \"u_probability\": 0.9981582842552235, \"m_probability_description\": \"Amongst matching record comparisons, 81.54% of records are in the all other comparisons comparison level\", \"u_probability_description\": \"Amongst non-matching record comparisons, 99.82% of records are in the all other comparisons comparison level\", \"has_tf_adjustments\": false, \"tf_adjustment_column\": null, \"tf_adjustment_weight\": 1.0, \"is_null_level\": false, \"bayes_factor\": 0.8168916792466323, \"log2_bayes_factor\": -0.29178330681541526, \"comparison_vector_value\": 0, \"max_comparison_vector_value\": 1, \"bayes_factor_description\": \"If comparison level is `all other comparisons` then comparison is  1.22 times less likely to be a match\", \"probability_two_random_records_match\": 6.509165091650916e-05, \"comparison_sort_order\": 1}, {\"comparison_name\": \"full_name\", \"sql_condition\": \"\\\"full_name_l\\\" = \\\"full_name_r\\\"\", \"label_for_charts\": \"Exact match full_name\", \"m_probability\": 0.18151793301687563, \"u_probability\": 1.6993132909914956e-06, \"m_probability_description\": \"Amongst matching record comparisons, 18.15% of records are in the exact match full_name comparison level\", \"u_probability_description\": \"Amongst non-matching record comparisons, 0.00% of records are in the exact match full_name comparison level\", \"has_tf_adjustments\": false, \"tf_adjustment_column\": null, \"tf_adjustment_weight\": 1.0, \"is_null_level\": false, \"bayes_factor\": 106818.40363348518, \"log2_bayes_factor\": 16.704800703329546, \"comparison_vector_value\": 4, \"max_comparison_vector_value\": 4, \"bayes_factor_description\": \"If comparison level is `exact match full_name` then comparison is 106,818.40 times more likely to be a match\", \"probability_two_random_records_match\": 6.509165091650916e-05, \"comparison_sort_order\": 2}, {\"comparison_name\": \"full_name\", \"sql_condition\": \"damerau_levenshtein(\\\"full_name_l\\\", \\\"full_name_r\\\") <= 1\", \"label_for_charts\": \"Damerau_levenshtein <= 1\", \"m_probability\": 0.014307642589863463, \"u_probability\": 8.059600180131093e-07, \"m_probability_description\": \"Amongst matching record comparisons, 1.43% of records are in the damerau_levenshtein <= 1 comparison level\", \"u_probability_description\": \"Amongst non-matching record comparisons, 0.00% of records are in the damerau_levenshtein <= 1 comparison level\", \"has_tf_adjustments\": false, \"tf_adjustment_column\": null, \"tf_adjustment_weight\": 1.0, \"is_null_level\": false, \"bayes_factor\": 17752.29821590324, \"log2_bayes_factor\": 14.115718187831925, \"comparison_vector_value\": 3, \"max_comparison_vector_value\": 4, \"bayes_factor_description\": \"If comparison level is `damerau_levenshtein <= 1` then comparison is 17,752.30 times more likely to be a match\", \"probability_two_random_records_match\": 6.509165091650916e-05, \"comparison_sort_order\": 2}, {\"comparison_name\": \"full_name\", \"sql_condition\": \"jaro_winkler_similarity(\\\"full_name_l\\\", \\\"full_name_r\\\") >= 0.9\", \"label_for_charts\": \"Jaro_winkler_similarity >= 0.9\", \"m_probability\": 0.06640078094407899, \"u_probability\": 5.815535599856038e-05, \"m_probability_description\": \"Amongst matching record comparisons, 6.64% of records are in the jaro_winkler_similarity >= 0.9 comparison level\", \"u_probability_description\": \"Amongst non-matching record comparisons, 0.01% of records are in the jaro_winkler_similarity >= 0.9 comparison level\", \"has_tf_adjustments\": false, \"tf_adjustment_column\": null, \"tf_adjustment_weight\": 1.0, \"is_null_level\": false, \"bayes_factor\": 1141.7827266971374, \"log2_bayes_factor\": 10.157072426659507, \"comparison_vector_value\": 2, \"max_comparison_vector_value\": 4, \"bayes_factor_description\": \"If comparison level is `jaro_winkler_similarity >= 0.9` then comparison is 1,141.78 times more likely to be a match\", \"probability_two_random_records_match\": 6.509165091650916e-05, \"comparison_sort_order\": 2}, {\"comparison_name\": \"full_name\", \"sql_condition\": \"jaro_winkler_similarity(\\\"full_name_l\\\", \\\"full_name_r\\\") >= 0.8\", \"label_for_charts\": \"Jaro_winkler_similarity >= 0.8\", \"m_probability\": 0.4853989050165451, \"u_probability\": 0.0010907746359449467, \"m_probability_description\": \"Amongst matching record comparisons, 48.54% of records are in the jaro_winkler_similarity >= 0.8 comparison level\", \"u_probability_description\": \"Amongst non-matching record comparisons, 0.11% of records are in the jaro_winkler_similarity >= 0.8 comparison level\", \"has_tf_adjustments\": false, \"tf_adjustment_column\": null, \"tf_adjustment_weight\": 1.0, \"is_null_level\": false, \"bayes_factor\": 445.0038431596277, \"log2_bayes_factor\": 8.797673985367005, \"comparison_vector_value\": 1, \"max_comparison_vector_value\": 4, \"bayes_factor_description\": \"If comparison level is `jaro_winkler_similarity >= 0.8` then comparison is 445.00 times more likely to be a match\", \"probability_two_random_records_match\": 6.509165091650916e-05, \"comparison_sort_order\": 2}, {\"comparison_name\": \"full_name\", \"sql_condition\": \"ELSE\", \"label_for_charts\": \"All other comparisons\", \"m_probability\": 0.19660567988202543, \"u_probability\": 0.9988485647347475, \"m_probability_description\": \"Amongst matching record comparisons, 19.66% of records are in the all other comparisons comparison level\", \"u_probability_description\": \"Amongst non-matching record comparisons, 99.88% of records are in the all other comparisons comparison level\", \"has_tf_adjustments\": false, \"tf_adjustment_column\": null, \"tf_adjustment_weight\": 1.0, \"is_null_level\": false, \"bayes_factor\": 0.19683231955610378, \"log2_bayes_factor\": -2.344960966511817, \"comparison_vector_value\": 0, \"max_comparison_vector_value\": 4, \"bayes_factor_description\": \"If comparison level is `all other comparisons` then comparison is  5.08 times less likely to be a match\", \"probability_two_random_records_match\": 6.509165091650916e-05, \"comparison_sort_order\": 2}, {\"comparison_name\": \"PER_Email\", \"sql_condition\": \"\\\"PER_Email_l\\\" = \\\"PER_Email_r\\\"\", \"label_for_charts\": \"3. Exact match PER_Email\", \"m_probability\": 0.5938040765189627, \"u_probability\": 0.6144303975647345, \"m_probability_description\": \"Amongst matching record comparisons, 59.38% of records are in the exact match per_email comparison level\", \"u_probability_description\": \"Amongst non-matching record comparisons, 61.44% of records are in the exact match per_email comparison level\", \"has_tf_adjustments\": false, \"tf_adjustment_column\": null, \"tf_adjustment_weight\": 1.0, \"is_null_level\": false, \"bayes_factor\": 0.9664301747968147, \"log2_bayes_factor\": -0.0492625943322941, \"comparison_vector_value\": 3, \"max_comparison_vector_value\": 3, \"bayes_factor_description\": \"If comparison level is `exact match per_email` then comparison is  1.03 times less likely to be a match\", \"probability_two_random_records_match\": 6.509165091650916e-05, \"comparison_sort_order\": 3}, {\"comparison_name\": \"PER_Email\", \"sql_condition\": \"\\n        regexp_extract(\\\"PER_Email_l\\\", '^[^@]+')\\n     = \\n        regexp_extract(\\\"PER_Email_r\\\", '^[^@]+')\\n    \", \"label_for_charts\": \"2. Exact match PER_Email\", \"m_probability\": 0.00017400498757003848, \"u_probability\": 3.884144665123418e-07, \"m_probability_description\": \"Amongst matching record comparisons, 0.02% of records are in the exact match per_email comparison level\", \"u_probability_description\": \"Amongst non-matching record comparisons, 0.00% of records are in the exact match per_email comparison level\", \"has_tf_adjustments\": false, \"tf_adjustment_column\": null, \"tf_adjustment_weight\": 1.0, \"is_null_level\": false, \"bayes_factor\": 447.98791644520145, \"log2_bayes_factor\": 8.80731600884401, \"comparison_vector_value\": 2, \"max_comparison_vector_value\": 3, \"bayes_factor_description\": \"If comparison level is `exact match per_email` then comparison is 447.99 times more likely to be a match\", \"probability_two_random_records_match\": 6.509165091650916e-05, \"comparison_sort_order\": 3}, {\"comparison_name\": \"PER_Email\", \"sql_condition\": \"jaro_winkler_similarity(\\\"PER_Email_l\\\", \\\"PER_Email_r\\\") >= 0.88\", \"label_for_charts\": \"1. Jaro_winkler_similarity PER_Email >= 0.88\", \"m_probability\": 0.0016048089284697816, \"u_probability\": 4.136614068356441e-06, \"m_probability_description\": \"Amongst matching record comparisons, 0.16% of records are in the jaro_winkler_similarity per_email >= 0.88 comparison level\", \"u_probability_description\": \"Amongst non-matching record comparisons, 0.00% of records are in the jaro_winkler_similarity per_email >= 0.88 comparison level\", \"has_tf_adjustments\": false, \"tf_adjustment_column\": null, \"tf_adjustment_weight\": 1.0, \"is_null_level\": false, \"bayes_factor\": 387.9522967216045, \"log2_bayes_factor\": 8.599735456841268, \"comparison_vector_value\": 1, \"max_comparison_vector_value\": 3, \"bayes_factor_description\": \"If comparison level is `jaro_winkler_similarity per_email >= 0.88` then comparison is 387.95 times more likely to be a match\", \"probability_two_random_records_match\": 6.509165091650916e-05, \"comparison_sort_order\": 3}, {\"comparison_name\": \"PER_Email\", \"sql_condition\": \"ELSE\", \"label_for_charts\": \"0. All other comparisons\", \"m_probability\": 0.40515818074286813, \"u_probability\": 0.3855650774067306, \"m_probability_description\": \"Amongst matching record comparisons, 40.52% of records are in the all other comparisons comparison level\", \"u_probability_description\": \"Amongst non-matching record comparisons, 38.56% of records are in the all other comparisons comparison level\", \"has_tf_adjustments\": false, \"tf_adjustment_column\": null, \"tf_adjustment_weight\": 1.0, \"is_null_level\": false, \"bayes_factor\": 1.050816592280397, \"log2_bayes_factor\": 0.07151088576276889, \"comparison_vector_value\": 0, \"max_comparison_vector_value\": 3, \"bayes_factor_description\": \"If comparison level is `all other comparisons` then comparison is 1.05 times more likely to be a match\", \"probability_two_random_records_match\": 6.509165091650916e-05, \"comparison_sort_order\": 3}, {\"comparison_name\": \"PER_SSN\", \"sql_condition\": \"\\\"PER_SSN_l\\\" = \\\"PER_SSN_r\\\"\", \"label_for_charts\": \"Exact match\", \"m_probability\": 0.9850694830667521, \"u_probability\": 0.9785161161318859, \"m_probability_description\": \"Amongst matching record comparisons, 98.51% of records are in the exact match comparison level\", \"u_probability_description\": \"Amongst non-matching record comparisons, 97.85% of records are in the exact match comparison level\", \"has_tf_adjustments\": false, \"tf_adjustment_column\": null, \"tf_adjustment_weight\": 1.0, \"is_null_level\": false, \"bayes_factor\": 1.0066972498733817, \"log2_bayes_factor\": 0.009629878203811539, \"comparison_vector_value\": 2, \"max_comparison_vector_value\": 2, \"bayes_factor_description\": \"If comparison level is `exact match` then comparison is 1.01 times more likely to be a match\", \"probability_two_random_records_match\": 6.509165091650916e-05, \"comparison_sort_order\": 4}, {\"comparison_name\": \"PER_SSN\", \"sql_condition\": \"levenshtein(\\\"PER_SSN_l\\\", \\\"PER_SSN_r\\\") <= 2\", \"label_for_charts\": \"Levenshtein <= 2\", \"m_probability\": 4.945570831519168e-40, \"u_probability\": 9.710361662808545e-09, \"m_probability_description\": \"Amongst matching record comparisons, 0.00% of records are in the levenshtein <= 2 comparison level\", \"u_probability_description\": \"Amongst non-matching record comparisons, 0.00% of records are in the levenshtein <= 2 comparison level\", \"has_tf_adjustments\": false, \"tf_adjustment_column\": null, \"tf_adjustment_weight\": 1.0, \"is_null_level\": false, \"bayes_factor\": 5.093086131344722e-32, \"log2_bayes_factor\": -103.9531589209247, \"comparison_vector_value\": 1, \"max_comparison_vector_value\": 2, \"bayes_factor_description\": \"If comparison level is `levenshtein <= 2` then comparison is  19,634,460,800,606,390,966,730,211,983,360.00 times less likely to be a match\", \"probability_two_random_records_match\": 6.509165091650916e-05, \"comparison_sort_order\": 4}, {\"comparison_name\": \"PER_SSN\", \"sql_condition\": \"ELSE\", \"label_for_charts\": \"All other comparisons\", \"m_probability\": 0.014930516933247845, \"u_probability\": 0.02148387415775236, \"m_probability_description\": \"Amongst matching record comparisons, 1.49% of records are in the all other comparisons comparison level\", \"u_probability_description\": \"Amongst non-matching record comparisons, 2.15% of records are in the all other comparisons comparison level\", \"has_tf_adjustments\": false, \"tf_adjustment_column\": null, \"tf_adjustment_weight\": 1.0, \"is_null_level\": false, \"bayes_factor\": 0.6949638982064245, \"log2_bayes_factor\": -0.5249900598301449, \"comparison_vector_value\": 0, \"max_comparison_vector_value\": 2, \"bayes_factor_description\": \"If comparison level is `all other comparisons` then comparison is  1.44 times less likely to be a match\", \"probability_two_random_records_match\": 6.509165091650916e-05, \"comparison_sort_order\": 4}, {\"comparison_name\": \"PER_DOB\", \"sql_condition\": \"\\\"PER_DOB_l\\\" = \\\"PER_DOB_r\\\"\", \"label_for_charts\": \"Exact match\", \"m_probability\": 0.024254582180447862, \"u_probability\": 4.112834337898888e-05, \"m_probability_description\": \"Amongst matching record comparisons, 2.43% of records are in the exact match comparison level\", \"u_probability_description\": \"Amongst non-matching record comparisons, 0.00% of records are in the exact match comparison level\", \"has_tf_adjustments\": false, \"tf_adjustment_column\": null, \"tf_adjustment_weight\": 1.0, \"is_null_level\": false, \"bayes_factor\": 589.7291305158362, \"log2_bayes_factor\": 9.203908649684493, \"comparison_vector_value\": 5, \"max_comparison_vector_value\": 5, \"bayes_factor_description\": \"If comparison level is `exact match` then comparison is 589.73 times more likely to be a match\", \"probability_two_random_records_match\": 6.509165091650916e-05, \"comparison_sort_order\": 5}, {\"comparison_name\": \"PER_DOB\", \"sql_condition\": \"damerau_levenshtein(\\\"PER_DOB_l\\\", \\\"PER_DOB_r\\\") <= 1\", \"label_for_charts\": \"Damerau_levenshtein <= 1\", \"m_probability\": 0.002117027193476756, \"u_probability\": 0.0011610592750575285, \"m_probability_description\": \"Amongst matching record comparisons, 0.21% of records are in the damerau_levenshtein <= 1 comparison level\", \"u_probability_description\": \"Amongst non-matching record comparisons, 0.12% of records are in the damerau_levenshtein <= 1 comparison level\", \"has_tf_adjustments\": false, \"tf_adjustment_column\": null, \"tf_adjustment_weight\": 1.0, \"is_null_level\": false, \"bayes_factor\": 1.8233584098209463, \"log2_bayes_factor\": 0.8665981736909425, \"comparison_vector_value\": 4, \"max_comparison_vector_value\": 5, \"bayes_factor_description\": \"If comparison level is `damerau_levenshtein <= 1` then comparison is 1.82 times more likely to be a match\", \"probability_two_random_records_match\": 6.509165091650916e-05, \"comparison_sort_order\": 5}, {\"comparison_name\": \"PER_DOB\", \"sql_condition\": \"\\n            abs(date_diff('month', \\\"PER_DOB_l\\\",\\n              \\\"PER_DOB_r\\\")) <= 1\\n        \", \"label_for_charts\": \"Within 1 month\", \"m_probability\": 0.004343057180941749, \"u_probability\": 0.0030694670490026615, \"m_probability_description\": \"Amongst matching record comparisons, 0.43% of records are in the within 1 month comparison level\", \"u_probability_description\": \"Amongst non-matching record comparisons, 0.31% of records are in the within 1 month comparison level\", \"has_tf_adjustments\": false, \"tf_adjustment_column\": null, \"tf_adjustment_weight\": 1.0, \"is_null_level\": false, \"bayes_factor\": 1.4149222362080434, \"log2_bayes_factor\": 0.5007227650572194, \"comparison_vector_value\": 3, \"max_comparison_vector_value\": 5, \"bayes_factor_description\": \"If comparison level is `within 1 month` then comparison is 1.41 times more likely to be a match\", \"probability_two_random_records_match\": 6.509165091650916e-05, \"comparison_sort_order\": 5}, {\"comparison_name\": \"PER_DOB\", \"sql_condition\": \"\\n            abs(date_diff('year', \\\"PER_DOB_l\\\",\\n              \\\"PER_DOB_r\\\")) <= 1\\n        \", \"label_for_charts\": \"Within 1 year\", \"m_probability\": 0.0566437407206832, \"u_probability\": 0.039118552630134654, \"m_probability_description\": \"Amongst matching record comparisons, 5.66% of records are in the within 1 year comparison level\", \"u_probability_description\": \"Amongst non-matching record comparisons, 3.91% of records are in the within 1 year comparison level\", \"has_tf_adjustments\": false, \"tf_adjustment_column\": null, \"tf_adjustment_weight\": 1.0, \"is_null_level\": false, \"bayes_factor\": 1.448001955906931, \"log2_bayes_factor\": 0.534063551160983, \"comparison_vector_value\": 2, \"max_comparison_vector_value\": 5, \"bayes_factor_description\": \"If comparison level is `within 1 year` then comparison is 1.45 times more likely to be a match\", \"probability_two_random_records_match\": 6.509165091650916e-05, \"comparison_sort_order\": 5}, {\"comparison_name\": \"PER_DOB\", \"sql_condition\": \"\\n            abs(date_diff('year', \\\"PER_DOB_l\\\",\\n              \\\"PER_DOB_r\\\")) <= 10\\n        \", \"label_for_charts\": \"Within 10 years\", \"m_probability\": 0.32230249413472917, \"u_probability\": 0.24291344216002822, \"m_probability_description\": \"Amongst matching record comparisons, 32.23% of records are in the within 10 years comparison level\", \"u_probability_description\": \"Amongst non-matching record comparisons, 24.29% of records are in the within 10 years comparison level\", \"has_tf_adjustments\": false, \"tf_adjustment_column\": null, \"tf_adjustment_weight\": 1.0, \"is_null_level\": false, \"bayes_factor\": 1.326820332661543, \"log2_bayes_factor\": 0.4079730257743085, \"comparison_vector_value\": 1, \"max_comparison_vector_value\": 5, \"bayes_factor_description\": \"If comparison level is `within 10 years` then comparison is 1.33 times more likely to be a match\", \"probability_two_random_records_match\": 6.509165091650916e-05, \"comparison_sort_order\": 5}, {\"comparison_name\": \"PER_DOB\", \"sql_condition\": \"ELSE\", \"label_for_charts\": \"All other comparisons\", \"m_probability\": 0.5808403764726517, \"u_probability\": 0.713696350542398, \"m_probability_description\": \"Amongst matching record comparisons, 58.08% of records are in the all other comparisons comparison level\", \"u_probability_description\": \"Amongst non-matching record comparisons, 71.37% of records are in the all other comparisons comparison level\", \"has_tf_adjustments\": false, \"tf_adjustment_column\": null, \"tf_adjustment_weight\": 1.0, \"is_null_level\": false, \"bayes_factor\": 0.813848040600491, \"log2_bayes_factor\": -0.29716865117952135, \"comparison_vector_value\": 0, \"max_comparison_vector_value\": 5, \"bayes_factor_description\": \"If comparison level is `all other comparisons` then comparison is  1.23 times less likely to be a match\", \"probability_two_random_records_match\": 6.509165091650916e-05, \"comparison_sort_order\": 5}]}}, {\"mode\": \"vega-lite\"});\n",
       "</script>"
      ],
      "text/plain": [
       "alt.HConcatChart(...)"
      ]
     },
     "execution_count": 19,
     "metadata": {},
     "output_type": "execute_result"
    }
   ],
   "source": [
    "linker.m_u_parameters_chart()"
   ]
  },
  {
   "cell_type": "code",
   "execution_count": 20,
   "metadata": {},
   "outputs": [
    {
     "data": {
      "text/html": [
       "\n",
       "<style>\n",
       "  #altair-viz-6cbe8b9c5ab44e2ba526a5010536cede.vega-embed {\n",
       "    width: 100%;\n",
       "    display: flex;\n",
       "  }\n",
       "\n",
       "  #altair-viz-6cbe8b9c5ab44e2ba526a5010536cede.vega-embed details,\n",
       "  #altair-viz-6cbe8b9c5ab44e2ba526a5010536cede.vega-embed details summary {\n",
       "    position: relative;\n",
       "  }\n",
       "</style>\n",
       "<div id=\"altair-viz-6cbe8b9c5ab44e2ba526a5010536cede\"></div>\n",
       "<script type=\"text/javascript\">\n",
       "  var VEGA_DEBUG = (typeof VEGA_DEBUG == \"undefined\") ? {} : VEGA_DEBUG;\n",
       "  (function(spec, embedOpt){\n",
       "    let outputDiv = document.currentScript.previousElementSibling;\n",
       "    if (outputDiv.id !== \"altair-viz-6cbe8b9c5ab44e2ba526a5010536cede\") {\n",
       "      outputDiv = document.getElementById(\"altair-viz-6cbe8b9c5ab44e2ba526a5010536cede\");\n",
       "    }\n",
       "    const paths = {\n",
       "      \"vega\": \"https://cdn.jsdelivr.net/npm/vega@5?noext\",\n",
       "      \"vega-lib\": \"https://cdn.jsdelivr.net/npm/vega-lib?noext\",\n",
       "      \"vega-lite\": \"https://cdn.jsdelivr.net/npm/vega-lite@5.16.3?noext\",\n",
       "      \"vega-embed\": \"https://cdn.jsdelivr.net/npm/vega-embed@6?noext\",\n",
       "    };\n",
       "\n",
       "    function maybeLoadScript(lib, version) {\n",
       "      var key = `${lib.replace(\"-\", \"\")}_version`;\n",
       "      return (VEGA_DEBUG[key] == version) ?\n",
       "        Promise.resolve(paths[lib]) :\n",
       "        new Promise(function(resolve, reject) {\n",
       "          var s = document.createElement('script');\n",
       "          document.getElementsByTagName(\"head\")[0].appendChild(s);\n",
       "          s.async = true;\n",
       "          s.onload = () => {\n",
       "            VEGA_DEBUG[key] = version;\n",
       "            return resolve(paths[lib]);\n",
       "          };\n",
       "          s.onerror = () => reject(`Error loading script: ${paths[lib]}`);\n",
       "          s.src = paths[lib];\n",
       "        });\n",
       "    }\n",
       "\n",
       "    function showError(err) {\n",
       "      outputDiv.innerHTML = `<div class=\"error\" style=\"color:red;\">${err}</div>`;\n",
       "      throw err;\n",
       "    }\n",
       "\n",
       "    function displayChart(vegaEmbed) {\n",
       "      vegaEmbed(outputDiv, spec, embedOpt)\n",
       "        .catch(err => showError(`Javascript Error: ${err.message}<br>This usually means there's a typo in your chart specification. See the javascript console for the full traceback.`));\n",
       "    }\n",
       "\n",
       "    if(typeof define === \"function\" && define.amd) {\n",
       "      requirejs.config({paths});\n",
       "      require([\"vega-embed\"], displayChart, err => showError(`Error loading script: ${err.message}`));\n",
       "    } else {\n",
       "      maybeLoadScript(\"vega\", \"5\")\n",
       "        .then(() => maybeLoadScript(\"vega-lite\", \"5.16.3\"))\n",
       "        .then(() => maybeLoadScript(\"vega-embed\", \"6\"))\n",
       "        .catch(showError)\n",
       "        .then(() => displayChart(vegaEmbed));\n",
       "    }\n",
       "  })({\"config\": {\"view\": {\"continuousWidth\": 400, \"continuousHeight\": 300}}, \"layer\": [{\"mark\": {\"type\": \"line\"}, \"encoding\": {\"x\": {\"axis\": {\"format\": \"+\", \"title\": \"Threshold match weight\"}, \"field\": \"match_weight\", \"type\": \"quantitative\"}, \"y\": {\"axis\": {\"format\": \"%\", \"title\": \"Percentage of unlinkable records\"}, \"field\": \"cum_prop\", \"type\": \"quantitative\"}}}, {\"mark\": {\"type\": \"point\"}, \"encoding\": {\"opacity\": {\"condition\": {\"param\": \"x_match_weight_y_cum_prop_coords_of_mouse\", \"value\": 1, \"empty\": false}, \"value\": 0}, \"tooltip\": [{\"field\": \"match_weight\", \"format\": \"+.5\", \"title\": \"Match weight\", \"type\": \"quantitative\"}, {\"field\": \"match_probability\", \"format\": \".5\", \"title\": \"Match probability\", \"type\": \"quantitative\"}, {\"field\": \"cum_prop\", \"format\": \".3%\", \"title\": \"Proportion of unlinkable records\", \"type\": \"quantitative\"}], \"x\": {\"axis\": {\"title\": \"Threshold match weight\"}, \"field\": \"match_weight\", \"type\": \"quantitative\"}, \"y\": {\"axis\": {\"format\": \"%\", \"title\": \"Percentage of unlinkable records\"}, \"field\": \"cum_prop\", \"type\": \"quantitative\"}}, \"name\": \"mouse_coords\"}, {\"mark\": {\"type\": \"rule\", \"color\": \"gray\"}, \"encoding\": {\"x\": {\"field\": \"match_weight\", \"type\": \"quantitative\"}}, \"transform\": [{\"filter\": {\"param\": \"x_match_weight_y_cum_prop_coords_of_mouse\", \"empty\": false}}]}, {\"mark\": {\"type\": \"rule\", \"color\": \"gray\"}, \"encoding\": {\"y\": {\"field\": \"cum_prop\", \"type\": \"quantitative\"}}, \"transform\": [{\"filter\": {\"param\": \"x_match_weight_y_cum_prop_coords_of_mouse\", \"empty\": false}}]}], \"data\": {\"name\": \"data-4755ef7729fb3ccedad4a1bd03060d22\"}, \"height\": 400, \"params\": [{\"name\": \"x_match_weight_y_cum_prop_coords_of_mouse\", \"select\": {\"type\": \"point\", \"fields\": [\"match_weight\", \"cum_prop\"], \"nearest\": true, \"on\": \"mouseover\"}, \"views\": [\"mouse_coords\"]}], \"title\": {\"text\": \"Unlinkable records\", \"subtitle\": \"Records with insufficient information to exceed a given match threshold\"}, \"width\": 400, \"$schema\": \"https://vega.github.io/schema/vega-lite/v5.9.3.json\", \"datasets\": {\"data-4755ef7729fb3ccedad4a1bd03060d22\": [{\"match_weight\": 17.57, \"match_probability\": 0.99999, \"prop\": 0.0013899999903514981, \"cum_prop\": 0.0013899999903514981}]}}, {\"mode\": \"vega-lite\"});\n",
       "</script>"
      ],
      "text/plain": [
       "alt.LayerChart(...)"
      ]
     },
     "execution_count": 20,
     "metadata": {},
     "output_type": "execute_result"
    }
   ],
   "source": [
    "linker.unlinkables_chart()"
   ]
  },
  {
   "cell_type": "code",
   "execution_count": 21,
   "metadata": {},
   "outputs": [],
   "source": [
    "settings = linker.save_model_to_json(\"saved_model1.json\", overwrite=True)"
   ]
  },
  {
   "cell_type": "code",
   "execution_count": 22,
   "metadata": {},
   "outputs": [],
   "source": [
    "df_predictions = linker.predict(threshold_match_probability=0.2)"
   ]
  },
  {
   "cell_type": "code",
   "execution_count": 23,
   "metadata": {},
   "outputs": [
    {
     "name": "stderr",
     "output_type": "stream",
     "text": [
      "Completed iteration 1, root rows count 49066\n",
      "Completed iteration 2, root rows count 43848\n",
      "Completed iteration 3, root rows count 42737\n",
      "Completed iteration 4, root rows count 42022\n",
      "Completed iteration 5, root rows count 36726\n",
      "Completed iteration 6, root rows count 26757\n",
      "Completed iteration 7, root rows count 20290\n",
      "Completed iteration 8, root rows count 12519\n",
      "Completed iteration 9, root rows count 5924\n",
      "Completed iteration 10, root rows count 2304\n",
      "Completed iteration 11, root rows count 1080\n",
      "Completed iteration 12, root rows count 447\n",
      "Completed iteration 13, root rows count 228\n",
      "Completed iteration 14, root rows count 188\n",
      "Completed iteration 15, root rows count 84\n",
      "Completed iteration 16, root rows count 43\n",
      "Completed iteration 17, root rows count 53\n",
      "Completed iteration 18, root rows count 34\n",
      "Completed iteration 19, root rows count 21\n",
      "Completed iteration 20, root rows count 26\n",
      "Completed iteration 21, root rows count 8\n",
      "Completed iteration 22, root rows count 2\n",
      "Completed iteration 23, root rows count 0\n"
     ]
    },
    {
     "data": {
      "text/plain": [
       "Table name in database: `__splink__df_predict_90ae95b4f`\n",
       "\n",
       "To retrieve records, you can call the following methods on this object:\n",
       "`.as_record_dict(limit=5)` or `.as_pandas_dataframe(limit=5)`.\n",
       "\n",
       "You may omit the `limit` argument to return all records.\n",
       "\n",
       "This table represents the following splink entity: __splink__df_predict"
      ]
     },
     "execution_count": 23,
     "metadata": {},
     "output_type": "execute_result"
    }
   ],
   "source": [
    "clusters = linker.cluster_pairwise_predictions_at_threshold(df_predictions, threshold_match_probability=0.5)\n",
    "df_predictions.as_pandas_dataframe()\n",
    "df_predictions"
   ]
  },
  {
   "cell_type": "code",
   "execution_count": 24,
   "metadata": {},
   "outputs": [
    {
     "ename": "SyntaxError",
     "evalue": "invalid syntax (851758953.py, line 1)",
     "output_type": "error",
     "traceback": [
      "\u001b[0;36m  Cell \u001b[0;32mIn[24], line 1\u001b[0;36m\u001b[0m\n\u001b[0;31m    .as_pandas_dataframe()\u001b[0m\n\u001b[0m    ^\u001b[0m\n\u001b[0;31mSyntaxError\u001b[0m\u001b[0;31m:\u001b[0m invalid syntax\n"
     ]
    }
   ],
   "source": [
    ".as_pandas_dataframe()"
   ]
  },
  {
   "cell_type": "code",
   "execution_count": 25,
   "metadata": {},
   "outputs": [
    {
     "data": {
      "text/plain": [
       "Table name in database: `__splink__df_predict_90ae95b4f`\n",
       "\n",
       "To retrieve records, you can call the following methods on this object:\n",
       "`.as_record_dict(limit=5)` or `.as_pandas_dataframe(limit=5)`.\n",
       "\n",
       "You may omit the `limit` argument to return all records.\n",
       "\n",
       "This table represents the following splink entity: __splink__df_predict"
      ]
     },
     "execution_count": 25,
     "metadata": {},
     "output_type": "execute_result"
    }
   ],
   "source": [
    "df_predictions"
   ]
  },
  {
   "cell_type": "code",
   "execution_count": 26,
   "metadata": {},
   "outputs": [],
   "source": [
    "df_model_output=df_predictions.as_pandas_dataframe()"
   ]
  },
  {
   "cell_type": "code",
   "execution_count": 27,
   "metadata": {},
   "outputs": [
    {
     "data": {
      "text/plain": [
       "(3216913, 33)"
      ]
     },
     "execution_count": 27,
     "metadata": {},
     "output_type": "execute_result"
    }
   ],
   "source": [
    "df_model_output.shape"
   ]
  },
  {
   "cell_type": "code",
   "execution_count": 28,
   "metadata": {},
   "outputs": [
    {
     "data": {
      "text/plain": [
       "Index(['match_weight', 'match_probability', 'id_l', 'id_r', 'firstname_dm_l',\n",
       "       'firstname_dm_r', 'gamma_firstname_dm', 'bf_firstname_dm',\n",
       "       'lastname_dm_l', 'lastname_dm_r', 'gamma_lastname_dm', 'bf_lastname_dm',\n",
       "       'full_name_l', 'full_name_r', 'gamma_full_name', 'bf_full_name',\n",
       "       'PER_Email_l', 'PER_Email_r', 'gamma_PER_Email', 'bf_PER_Email',\n",
       "       'PER_SSN_l', 'PER_SSN_r', 'gamma_PER_SSN', 'bf_PER_SSN', 'PER_DOB_l',\n",
       "       'PER_DOB_r', 'gamma_PER_DOB', 'bf_PER_DOB', 'PER_FirstName_l',\n",
       "       'PER_FirstName_r', 'PER_LastName_l', 'PER_LastName_r', 'match_key'],\n",
       "      dtype='object')"
      ]
     },
     "execution_count": 28,
     "metadata": {},
     "output_type": "execute_result"
    }
   ],
   "source": [
    "df_model_output.columns"
   ]
  },
  {
   "cell_type": "code",
   "execution_count": 30,
   "metadata": {},
   "outputs": [
    {
     "name": "stdout",
     "output_type": "stream",
     "text": [
      "99999\n"
     ]
    }
   ],
   "source": [
    "max_number = max(df_model_output['id_r'])\n",
    "print(max_number)"
   ]
  },
  {
   "cell_type": "code",
   "execution_count": 35,
   "metadata": {},
   "outputs": [
    {
     "data": {
      "text/plain": [
       "0"
      ]
     },
     "execution_count": 35,
     "metadata": {},
     "output_type": "execute_result"
    }
   ],
   "source": [
    "len(df_model_output.query('id_l == id_r'))"
   ]
  },
  {
   "cell_type": "code",
   "execution_count": 36,
   "metadata": {},
   "outputs": [
    {
     "data": {
      "text/plain": [
       "3216913"
      ]
     },
     "execution_count": 36,
     "metadata": {},
     "output_type": "execute_result"
    }
   ],
   "source": [
    "len(df_model_output.query('id_l != id_r'))"
   ]
  },
  {
   "cell_type": "code",
   "execution_count": null,
   "metadata": {},
   "outputs": [],
   "source": [
    "#So according to this model and Tinas model, there are no duplicates"
   ]
  }
 ],
 "metadata": {
  "kernelspec": {
   "display_name": "tomenv",
   "language": "python",
   "name": "tomenv"
  },
  "language_info": {
   "codemirror_mode": {
    "name": "ipython",
    "version": 3
   },
   "file_extension": ".py",
   "mimetype": "text/x-python",
   "name": "python",
   "nbconvert_exporter": "python",
   "pygments_lexer": "ipython3",
   "version": "3.11.7"
  }
 },
 "nbformat": 4,
 "nbformat_minor": 4
}
