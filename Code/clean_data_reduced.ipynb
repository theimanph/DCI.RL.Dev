{
 "cells": [
  {
   "cell_type": "code",
   "execution_count": 13,
   "metadata": {},
   "outputs": [
    {
     "name": "stdout",
     "output_type": "stream",
     "text": [
      "                        address      address_source2\n",
      "0           1234 Main St. UNKNO                     \n",
      "1                    PO Box 123                     \n",
      "2            9999 Transient Way                     \n",
      "3                450 Bauchet St       450 BAUCHET ST\n",
      "4                 100 Normal St        100 NORMAL ST\n",
      "5           456 Elm St, Apt 789  456 ELM ST, APT 789\n",
      "6                      UNK 7890                     \n",
      "7                            NA                     \n",
      "8  SOUTHBAY ER Medical Facility                     \n",
      "9              PO BOX@EMAIL.COM                     \n"
     ]
    }
   ],
   "source": [
    "import pandas as pd\n",
    "import re\n",
    "\n",
    "#This code is a python port of the R code at:\n",
    "#https://github.com/LACountyDPH/generic-bot/blob/main/Web%20CMR/2_matching/scripts/clean_addr_source.R. \n",
    "#This code was used to preprocess the address information only prior to geolocation and deduplication/record linkage. \n",
    "#It does not perform a complete cleanup as seen in the R code from:\n",
    "#https://github.com/LACountyDPH/generic-matching/blob/main/match_scripts/clean_addr_source.R.\n",
    "######################################FUNCTION CALL###################################################################\n",
    "## Assuming the address, city, state, and zip columns are named 'address', 'city', 'state', and 'zip' respectively.\n",
    "#df_cleaned = clean_address(df, 'address', 'city', 'state', 'zip'). That code also preprocesses: email, telephone numbers, etc..\n",
    "\n",
    "# Define PEH and invalid address keywords and patterns\n",
    "invalid_addr1 = (\n",
    "    \"UNKNO|HOMELES|NEED ADDR|NEED INFO|HOMESLESS|TRANSIENT|SUPPRESS|ENCAMPM|UNDOMIC|UNDERPASS|HOMELESS|NOADDRESS|\"\n",
    "    \"NO ADDRESS|NONE PROVIDED|REFUSED|123 DEFAULT ST|PT STATES NONE|999 TRANSIENT WAY|UNSHELTERED|UNHOUSED|\"\n",
    "    \"UNKKNOWN|UNKNWOWN|UNKONW|UNKOWN|UNSTABLE HOUSING|XNEEDX|XNEEDSX|HOMELEXX|X NEED X|TRANSET|MISSING|\"\n",
    "    \"MAILING ADDRESS|MAILING ONLY|NOT AVAILABLE|NOT PROVIDED|THIS IS NOT A HOME ADDRESS|MAIL RTND BAD ADDRESS|\"\n",
    "    \"MAILING ADDRESS ONLY|NEED NEW ADDRESS|FILLING OUT FORMS|ADDRS VERF|NO ACTUAL ADDRESS|NEEDS ADDRESS|\"\n",
    "    \"DOES NOT HAVE AN ADDRESS|REQUEST CALL|UNABLE TO PROVIDE|RETURN MAIL|BAD ADDRESS|UNABLE TO LOCATE|NOT GIVEN|\"\n",
    "    \"NONE GIVEN|NO KNOWN ADDRESS|450 BAUCHET\"\n",
    ")\n",
    "\n",
    "peh_keywords1 = [\n",
    "    'NOT PROVIDED', 'UNSPECIFIED', '*NONE', 'REFUSED', '`', 'NULL', 'NONE', 'NA', 'N/A',\n",
    "    'ODR', 'SHELTER', 'IN TRANSIT', 'UNK', 'CA', 'NOT CALIFORNIA', 'LAC'\n",
    "]\n",
    "\n",
    "invalid_addr5 = peh_keywords1 + [\n",
    "    'LOS ANGELES', 'LA', '# LA', '#LA', 'N A', 'NA',\n",
    "    '999 TRANSIENT WAY', '999 TRANSIENT', '99 JAIL CASE', '123 UNK', '9999 TRANSIENT', '9999 TRANSIENT WAY', '9999 TRANSIENT',\n",
    "    'SOUTHBAY ER', 'XXX HOMELESS XXX', 'POST OFFICE BOX', 'PTIENT STATES', 'SUNSET ED', 'VALLEY PALMS CARE CENTER', 'W LOS ANGELES ED', 'WLA ED', 'UNK'\n",
    "]\n",
    "\n",
    "pobox_keywords = (\n",
    "    \"POBOX|PO BOX|P0 BOX|POSTAL|PO BX|9O BOX|OK BOX|P 0 BOX|P BOX|PB BOX|PI BOX|PIC BOX|P.O. BOX|P.O.BOX|\"\n",
    "    \"PIO BOX|PITZER BOX|PO B0X|PO BAX|PO BOS|PO BOT|PO BOV|POX BOX|SHOW BOX|POP BOX|P O BOX|POX BOX\"\n",
    ")\n",
    "\n",
    "# Cleaning function\n",
    "def clean_addr_source(df, addr_var, city_var, state_var, zip_var):\n",
    "    # Address cleaning based on the patterns\n",
    "    def check_and_clean_address(row):\n",
    "        address = re.sub(r\"[^a-zA-Z0-9\\s,/]\", \" \", str(row[addr_var]).upper()).strip()\n",
    "        if any(keyword in address for keyword in invalid_addr5):\n",
    "            return \"\"\n",
    "        if re.search(pobox_keywords, address, re.IGNORECASE):\n",
    "            return \"\"\n",
    "        return re.sub(r\"^\\s*$\", \"\", address)\n",
    "\n",
    "    df['address_source2'] = df.apply(check_and_clean_address, axis=1)\n",
    "    \n",
    "    return df\n",
    "\n",
    "# Example data\n",
    "data = {\n",
    "    'address': [\n",
    "        \"1234 Main St. UNKNO\",\n",
    "        \"PO Box 123\",\n",
    "        \"9999 Transient Way\",\n",
    "        \"450 Bauchet St\",\n",
    "        \"100 Normal St\",\n",
    "        \"456 Elm St, Apt 789\",\n",
    "        \"UNK 7890\",\n",
    "        \"NA\",\n",
    "        \"SOUTHBAY ER Medical Facility\",\n",
    "        \"PO BOX@EMAIL.COM\"\n",
    "    ],\n",
    "    'city': [\"Anytown\"] * 10,\n",
    "    'state': [\"CA\"] * 10,\n",
    "    'zip': [\"90001\"] * 10\n",
    "}\n",
    "\n",
    "df = pd.DataFrame(data)\n",
    "\n",
    "# Clean the DataFrame\n",
    "df_cleaned = clean_addr_source(df, 'address', 'city', 'state', 'zip')\n",
    "\n",
    "# Display the cleaned DataFrame\n",
    "print(df_cleaned[['address', 'address_source2']])"
   ]
  },
  {
   "cell_type": "code",
   "execution_count": 14,
   "metadata": {},
   "outputs": [
    {
     "name": "stdout",
     "output_type": "stream",
     "text": [
      "                        address     city state    zip      address_source2\n",
      "0           1234 Main St. UNKNO  Anytown    CA  90001                     \n",
      "1                    PO Box 123  Anytown    CA  90001                     \n",
      "2            9999 Transient Way  Anytown    CA  90001                     \n",
      "3                450 Bauchet St  Anytown    CA  90001       450 BAUCHET ST\n",
      "4                 100 Normal St  Anytown    CA  90001        100 NORMAL ST\n",
      "5           456 Elm St, Apt 789  Anytown    CA  90001  456 ELM ST, APT 789\n",
      "6                      UNK 7890  Anytown    CA  90001                     \n",
      "7                            NA  Anytown    CA  90001                     \n",
      "8  SOUTHBAY ER Medical Facility  Anytown    CA  90001                     \n",
      "9              PO BOX@EMAIL.COM  Anytown    CA  90001                     \n"
     ]
    }
   ],
   "source": [
    "print(df_cleaned)"
   ]
  }
 ],
 "metadata": {
  "kernelspec": {
   "display_name": "Python 3",
   "language": "python",
   "name": "python3"
  },
  "language_info": {
   "codemirror_mode": {
    "name": "ipython",
    "version": 3
   },
   "file_extension": ".py",
   "mimetype": "text/x-python",
   "name": "python",
   "nbconvert_exporter": "python",
   "pygments_lexer": "ipython3",
   "version": "3.6.8"
  }
 },
 "nbformat": 4,
 "nbformat_minor": 4
}
